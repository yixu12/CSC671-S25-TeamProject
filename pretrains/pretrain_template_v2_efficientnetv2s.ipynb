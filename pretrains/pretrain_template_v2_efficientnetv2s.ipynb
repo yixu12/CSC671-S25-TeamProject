{
 "cells": [
  {
   "cell_type": "markdown",
   "id": "e212769df2c79163",
   "metadata": {},
   "source": [
    "# Test with pretrained models"
   ]
  },
  {
   "cell_type": "code",
   "execution_count": 1,
   "id": "4fa5d0748a13767e",
   "metadata": {
    "ExecuteTime": {
     "end_time": "2025-04-21T11:48:34.142931Z",
     "start_time": "2025-04-21T11:48:31.294135Z"
    }
   },
   "outputs": [],
   "source": [
    "import torch\n",
    "import torch.nn as nn\n",
    "import torch.optim as optim\n",
    "from torch.utils.data import DataLoader\n",
    "from torchvision import datasets, transforms\n",
    "from torch.nn.utils import clip_grad_norm_\n",
    "import torch.nn.init as init\n",
    "from sklearn.utils.class_weight import compute_class_weight\n",
    "import random\n",
    "import numpy as np\n",
    "import pandas as pd\n",
    "import os\n",
    "import cpuinfo\n",
    "from tqdm import tqdm\n",
    "from torchinfo import summary\n",
    "from PIL import Image"
   ]
  },
  {
   "cell_type": "code",
   "execution_count": 2,
   "id": "a18de51f",
   "metadata": {},
   "outputs": [],
   "source": [
    "# Control randomness\n",
    "seed = 42\n",
    "random.seed(seed)\n",
    "np.random.seed(seed)\n",
    "torch.manual_seed(seed)\n",
    "torch.cuda.manual_seed(seed)\n",
    "torch.cuda.manual_seed_all(seed)\n",
    "torch.backends.cudnn.deterministic = True\n",
    "torch.backends.cudnn.benchmark = False"
   ]
  },
  {
   "cell_type": "markdown",
   "id": "460da8d92d8804f",
   "metadata": {},
   "source": [
    "### File paths"
   ]
  },
  {
   "cell_type": "code",
   "execution_count": 3,
   "id": "7143543ffa0b1711",
   "metadata": {
    "ExecuteTime": {
     "end_time": "2025-04-21T11:48:34.284882Z",
     "start_time": "2025-04-21T11:48:34.282781Z"
    }
   },
   "outputs": [],
   "source": [
    "train_path = \"../data/Train\"        # paths for your training and testing dataset\n",
    "#train_path = \"../data/aug_train\"    \n",
    "test_path = \"../data/Test\"          # using test dataset as validation too\n",
    "input_parameter = \"\"                # paths for import and export custom model trainable parameters\n",
    "output_parameter = \"./model_parameters_efficientnetv2s_384\"  # paths for import and export custom model trainable parameters"
   ]
  },
  {
   "cell_type": "markdown",
   "id": "61231f85",
   "metadata": {},
   "source": [
    "### Device of use"
   ]
  },
  {
   "cell_type": "code",
   "execution_count": null,
   "id": "08a1c831",
   "metadata": {},
   "outputs": [
    {
     "name": "stdout",
     "output_type": "stream",
     "text": [
      "CPU count: 16\n",
      "Using device: cuda\n"
     ]
    }
   ],
   "source": [
    "device = torch.device(\"mps\" if torch.backends.mps.is_available() else \"cpu\")\n",
    "#device = \"cpu\"\n",
    "device_name = \"\"\n",
    "\n",
    "print(f\"CPU count: {os.cpu_count()}\")\n",
    "num_workers = min(4, os.cpu_count() // 2)  # Dynamically set num_workers\n",
    "print(f\"Using device: {device}\")"
   ]
  },
  {
   "cell_type": "markdown",
   "id": "f21140ca",
   "metadata": {},
   "source": [
    "### Pretrain Model of use from torchvision"
   ]
  },
  {
   "cell_type": "code",
   "execution_count": 5,
   "id": "9a34a8a8d04cb802",
   "metadata": {
    "ExecuteTime": {
     "end_time": "2025-04-21T11:48:34.447142Z",
     "start_time": "2025-04-21T11:48:34.298297Z"
    }
   },
   "outputs": [
    {
     "name": "stdout",
     "output_type": "stream",
     "text": [
      "Using model EfficientNet\n"
     ]
    }
   ],
   "source": [
    "from torchvision.models import efficientnet_v2_s, efficientnet_b0\n",
    "model = efficientnet_b0(weights='DEFAULT')  # or efficientnet_v2_s(weights='DEFAULT')\n",
    "img_size = 384 # adjust input image size for model\n",
    "print(f\"Using model {type(model).__name__}\")\n",
    "\n",
    "epochs = 50\n",
    "batch_size = 16 # adjust to your memory\n",
    "\n",
    "# For classifier layer if used model freezing (disable when n < 0)\n",
    "n = -1\n",
    "optimizer = optim.AdamW(\n",
    "    [{\"params\": model.classifier.parameters(), \"lr\": 1e-2}],\n",
    "    weight_decay=1e-3,\n",
    "    )\n",
    "scheduler = torch.optim.lr_scheduler.ReduceLROnPlateau(\n",
    "    optimizer,\n",
    "    mode='min',\n",
    "    factor=0.5,\n",
    "    patience=2,\n",
    "    )\n",
    "\n",
    "# For fully unfrozen model after n epochs\n",
    "optimizer2 = optim.AdamW(\n",
    "    model.parameters(),\n",
    "    lr=4e-4,\n",
    "    weight_decay=1e-4,\n",
    "    )\n",
    "scheduler2 = torch.optim.lr_scheduler.ReduceLROnPlateau(\n",
    "    optimizer2,\n",
    "    mode='max',\n",
    "    factor=0.5,\n",
    "    patience=2,\n",
    "    min_lr=1e-6,\n",
    "    cooldown=0,\n",
    "    threshold_mode='rel',\n",
    "    threshold=0.0001,\n",
    "    eps=1e-8\n",
    "    )\n",
    "if n < 0:\n",
    "    optimizer = optimizer2\n",
    "    scheduler = scheduler2\n",
    "\n",
    "# loss_function = nn.CrossEntropyLoss() defined in Weighed Cross Entropy Loss cell\n",
    "grad_clip = 5.0         # gradient clipping value"
   ]
  },
  {
   "cell_type": "markdown",
   "id": "4332cc4f55b5e4bf",
   "metadata": {},
   "source": [
    "### Data transform/normalization and loader"
   ]
  },
  {
   "cell_type": "code",
   "execution_count": 6,
   "id": "e6d91a6e",
   "metadata": {},
   "outputs": [],
   "source": [
    "# Calculate mean and std of dataset images\n",
    "def calculate_mean_std():\n",
    "    transform = transforms.Compose([\n",
    "        transforms.Resize(img_size),\n",
    "        transforms.CenterCrop(img_size),\n",
    "        transforms.ToTensor()\n",
    "    ])\n",
    "\n",
    "    dataset = datasets.ImageFolder(root=train_path, transform=transform)\n",
    "    loader = DataLoader(dataset, batch_size=batch_size, shuffle=False, num_workers=num_workers)\n",
    "\n",
    "    # Initialize variables to compute mean and variance\n",
    "    mean = 0.0\n",
    "    var = 0.0\n",
    "    total_images = 0\n",
    "\n",
    "    for images, _ in tqdm(loader, desc=\"Calculating stats\"):\n",
    "        batch_samples = images.size(0)  # Number of images in the batch\n",
    "        images = images.view(batch_samples, images.size(1), -1)  # Flatten the image pixels [B, C, H*W]\n",
    "        \n",
    "        # Compute batch mean and variance\n",
    "        batch_mean = images.mean([0, 2])  # Mean for each channel\n",
    "        batch_var = images.var([0, 2])   # Variance for each channel\n",
    "        \n",
    "        # Update global mean and variance\n",
    "        mean += batch_mean * batch_samples\n",
    "        var += batch_var * batch_samples\n",
    "        total_images += batch_samples\n",
    "\n",
    "    # Final mean and standard deviation\n",
    "    mean /= total_images\n",
    "    std = torch.sqrt(var / total_images)\n",
    "\n",
    "    mean = mean.tolist()\n",
    "    std = std.tolist()\n",
    "\n",
    "    print(f\"Total Images: {total_images}\")\n",
    "    print(f\"Mean: {mean}\")\n",
    "    print(f\"Std: {std}\")\n",
    "\n",
    "    return mean, std"
   ]
  },
  {
   "cell_type": "code",
   "execution_count": 7,
   "id": "43daceca",
   "metadata": {},
   "outputs": [],
   "source": [
    "# Precomputed mean and std\n",
    "# for EfficientNetB0 and batch=16\n",
    "# mean, std = calculate_mean_std()\n",
    "mean = [0.7505297064781189, 0.5858979821205139, 0.5854080319404602]\n",
    "std = [0.1179748997092247, 0.14000017940998077, 0.15512846410274506]"
   ]
  },
  {
   "cell_type": "code",
   "execution_count": 8,
   "id": "2e0a404b216b26a8",
   "metadata": {
    "ExecuteTime": {
     "end_time": "2025-04-21T11:48:34.517225Z",
     "start_time": "2025-04-21T11:48:34.493177Z"
    }
   },
   "outputs": [],
   "source": [
    "transform_train = transforms.Compose([\n",
    "    transforms.Resize(450),\n",
    "    transforms.Pad(padding=150, padding_mode='reflect'),\n",
    "    transforms.RandomRotation(45, expand=False),\n",
    "    transforms.CenterCrop(450),\n",
    "    transforms.Resize(img_size),\n",
    "\n",
    "    transforms.RandomHorizontalFlip(),\n",
    "    transforms.RandomVerticalFlip(),\n",
    "    transforms.ColorJitter(brightness=0.1, contrast=0.1, saturation=0.05),\n",
    "    \n",
    "    transforms.ToTensor(),\n",
    "    transforms.Normalize(mean=mean, std=std),                                       # Use the calculated mean and std\n",
    "    # transforms.Normalize(mean=[0.485, 0.456, 0.406], std=[0.229, 0.224, 0.225]),  # Use the ImageNet mean and std\n",
    "    transforms.RandomErasing(p=0.5, scale=(0.01, 0.05), ratio=(0.3, 10), value='random', inplace=False),\n",
    "])\n",
    "\n",
    "transform_test = transforms.Compose([   # on test dataset\n",
    "    transforms.Resize(img_size),\n",
    "    transforms.CenterCrop(img_size),\n",
    "    transforms.ToTensor(),\n",
    "    transforms.Normalize(mean=mean, std=std),\n",
    "    # transforms.Normalize(mean=[0.485, 0.456, 0.406], std=[0.229, 0.224, 0.225]),\n",
    "    ])"
   ]
  },
  {
   "cell_type": "code",
   "execution_count": 9,
   "id": "6b8a80bf",
   "metadata": {},
   "outputs": [
    {
     "name": "stderr",
     "output_type": "stream",
     "text": [
      "                                                                       "
     ]
    },
    {
     "name": "stdout",
     "output_type": "stream",
     "text": [
      "Total Classes: 9\n",
      "Class counts: [114, 376, 95, 438, 357, 462, 77, 181, 139]\n",
      "Classes: ['actinic keratosis', 'basal cell carcinoma', 'dermatofibroma', 'melanoma', 'nevus', 'pigmented benign keratosis', 'seborrheic keratosis', 'squamous cell carcinoma', 'vascular lesion']\n"
     ]
    },
    {
     "name": "stderr",
     "output_type": "stream",
     "text": [
      "\r"
     ]
    }
   ],
   "source": [
    "train_dataset = datasets.ImageFolder(root=train_path, transform=transform_train)\n",
    "test_dataset = datasets.ImageFolder(root=test_path, transform=transform_test)\n",
    "\n",
    "train_loader = DataLoader(train_dataset, batch_size=batch_size, shuffle=True, num_workers=num_workers)\n",
    "test_loader = DataLoader(test_dataset, batch_size=batch_size, shuffle=False, num_workers=num_workers)\n",
    "\n",
    "val_data = [\n",
    "    (images.to(device), labels.to(device))\n",
    "    for images, labels in tqdm(test_loader, desc=f\"Preloading Test Data to {device_name}\", leave=False)\n",
    "]\n",
    "\n",
    "class_counts = [0] * len(train_dataset.classes)\n",
    "for _, label in train_dataset.samples:\n",
    "    class_counts[label] += 1\n",
    "\n",
    "print(f\"Total Classes: {len(train_dataset.classes)}\")\n",
    "print(f\"Class counts: {class_counts}\")\n",
    "print(f\"Classes: {train_dataset.classes}\")"
   ]
  },
  {
   "cell_type": "markdown",
   "id": "5f1ea264",
   "metadata": {},
   "source": [
    "### Weighted Cross Entropy Loss"
   ]
  },
  {
   "cell_type": "code",
   "execution_count": 10,
   "id": "c0848f05",
   "metadata": {},
   "outputs": [
    {
     "name": "stdout",
     "output_type": "stream",
     "text": [
      "Class weights: tensor([2.1823, 0.6616, 2.6187, 0.5680, 0.6969, 0.5385, 3.2309, 1.3745, 1.7898],\n",
      "       device='cuda:0')\n"
     ]
    }
   ],
   "source": [
    "class_weights = compute_class_weight(\n",
    "    'balanced',\n",
    "    classes=np.arange(len(train_dataset.classes)),\n",
    "    y=[label for _, label in train_dataset.samples]\n",
    ")\n",
    "\n",
    "class_weights = torch.tensor(class_weights, dtype=torch.float32).to(device)\n",
    "loss_function = nn.CrossEntropyLoss(weight=class_weights)\n",
    "\n",
    "print(f\"Class weights: {class_weights}\")"
   ]
  },
  {
   "cell_type": "markdown",
   "id": "75b9adc1",
   "metadata": {},
   "source": [
    "### Model Classifier layer"
   ]
  },
  {
   "cell_type": "code",
   "execution_count": 11,
   "id": "83c2871148fc4fc3",
   "metadata": {
    "ExecuteTime": {
     "end_time": "2025-04-21T11:48:34.524281Z",
     "start_time": "2025-04-21T11:48:34.521216Z"
    }
   },
   "outputs": [
    {
     "name": "stdout",
     "output_type": "stream",
     "text": [
      "Classifier - Input features: 1280, Output classes: 9\n"
     ]
    }
   ],
   "source": [
    "# Edit the output layer of the model\n",
    "num_classes = len(train_dataset.classes)\n",
    "num_features = model.classifier[1].in_features\n",
    "model.classifier = nn.Sequential(\n",
    "    nn.Dropout(0.5),\n",
    "    \n",
    "    nn.Linear(num_features, 256),\n",
    "    nn.BatchNorm1d(256),\n",
    "    nn.LeakyReLU(),\n",
    "\n",
    "    nn.Linear(256, num_classes),\n",
    ")\n",
    "\n",
    "# Initialize weights and biases for classifier\n",
    "for m in model.classifier:\n",
    "    if isinstance(m, nn.Linear):\n",
    "        init.kaiming_normal_(m.weight, nonlinearity='leaky_relu')\n",
    "        if m.bias is not None:\n",
    "            init.constant_(m.bias, 0)\n",
    "\n",
    "print(f\"Classifier - Input features: {num_features}, Output classes: {num_classes}\")"
   ]
  },
  {
   "cell_type": "markdown",
   "id": "d1795a45e3c08a75",
   "metadata": {},
   "source": [
    "### Configure model parameters"
   ]
  },
  {
   "cell_type": "code",
   "execution_count": 12,
   "id": "dda5db7349fc7d89",
   "metadata": {
    "ExecuteTime": {
     "end_time": "2025-04-21T11:48:34.565876Z",
     "start_time": "2025-04-21T11:48:34.563196Z"
    }
   },
   "outputs": [],
   "source": [
    "# IF NEEDED\n",
    "# Load custom weight and optimizer states\n",
    "# if os.path.exists(input_parameter):\n",
    "#     checkpoint = torch.load(\"test_weights.pth\", map_location=device)\n",
    "#     model.load_state_dict(checkpoint['model_state_dict'])\n",
    "#     optimizer.load_state_dict(checkpoint['optimizer_state_dict'])"
   ]
  },
  {
   "cell_type": "code",
   "execution_count": 13,
   "id": "ded31e95efe3a765",
   "metadata": {
    "ExecuteTime": {
     "end_time": "2025-04-21T11:48:34.588042Z",
     "start_time": "2025-04-21T11:48:34.585548Z"
    }
   },
   "outputs": [],
   "source": [
    "# Selective layer freezing\n",
    "# Freeze all layers except the classifier\n",
    "if n >= 0:\n",
    "    for name, param in model.named_parameters():\n",
    "        param.requires_grad = False\n",
    "    for name, param in model.classifier.named_parameters():\n",
    "        param.requires_grad = True\n",
    "        print(f\"Unfreezing layer: {name, param.shape}\")"
   ]
  },
  {
   "cell_type": "code",
   "execution_count": 14,
   "id": "3247b01c5c37b276",
   "metadata": {
    "ExecuteTime": {
     "end_time": "2025-04-21T11:48:34.687917Z",
     "start_time": "2025-04-21T11:48:34.598546Z"
    }
   },
   "outputs": [
    {
     "name": "stdout",
     "output_type": "stream",
     "text": [
      "Model is on cuda:0\n"
     ]
    }
   ],
   "source": [
    "# Move model to device\n",
    "model.to(device)\n",
    "print(f\"Model is on {next(model.parameters()).device}\")"
   ]
  },
  {
   "cell_type": "code",
   "execution_count": 15,
   "id": "69e6c43f",
   "metadata": {},
   "outputs": [],
   "source": [
    "# Print model architecture\n",
    "# print(summary(model, (batch_size, 3, img_size, img_size)))"
   ]
  },
  {
   "cell_type": "code",
   "execution_count": 16,
   "id": "22466871",
   "metadata": {},
   "outputs": [],
   "source": [
    "# # DEBUG\n",
    "# print(f\"Model device: {next(model.parameters()).device}\")\n",
    "# for images, labels in train_data:\n",
    "#     print(f\"Input device: {images.device}\")\n",
    "#     break\n",
    "# print(f\"Device: {device}\")"
   ]
  },
  {
   "cell_type": "code",
   "execution_count": 17,
   "id": "eb3d6a8a",
   "metadata": {},
   "outputs": [],
   "source": [
    "arr_train_loss = []\n",
    "arr_train_acc = []\n",
    "arr_test_loss = []\n",
    "arr_test_acc = []\n",
    "\n",
    "# Save model parameters\n",
    "def save_model_parameters(name=\"\", output_parameter=output_parameter):\n",
    "    output_parameter = os.path.join(output_parameter, name)\n",
    "    if not os.path.exists(output_parameter):\n",
    "        os.makedirs(output_parameter)\n",
    "\n",
    "    # Save model architecture\n",
    "    #torch.save(model, os.path.join(output_parameter, \"model_architecture.pth\"))\n",
    "\n",
    "    # Save model weights, optimizer state, and scheduler state\n",
    "    torch.save({\n",
    "        'model_state_dict': model.state_dict()\n",
    "    }, os.path.join(output_parameter, \"model_weights.pth\"))\n",
    "    torch.save({\n",
    "        'optimizer_state_dict': optimizer.state_dict()\n",
    "    }, os.path.join(output_parameter, \"optimizer_weights.pth\"))\n",
    "    torch.save({\n",
    "        'scheduler_state_dict': scheduler.state_dict()\n",
    "    }, os.path.join(output_parameter, \"scheduler_weights.pth\"))\n",
    "\n",
    "    # Save training logs to CSV\n",
    "    data = {\n",
    "        \"Epoch\": list(range(1, len(arr_train_loss) + 1)),\n",
    "        \"Train Loss\": arr_train_loss,\n",
    "        \"Train Accuracy\": arr_train_acc,\n",
    "        \"Test Loss\": arr_test_loss,\n",
    "        \"Test Accuracy\": arr_test_acc\n",
    "    }\n",
    "    df = pd.DataFrame(data)\n",
    "    csv_file = os.path.join(output_parameter, \"training_logs.csv\")\n",
    "    df.to_csv(csv_file, index=False)"
   ]
  },
  {
   "cell_type": "markdown",
   "id": "c027cba37344acf9",
   "metadata": {},
   "source": [
    "## Training Epochs"
   ]
  },
  {
   "cell_type": "code",
   "execution_count": 18,
   "id": "c3520fd42aeea885",
   "metadata": {
    "ExecuteTime": {
     "end_time": "2025-04-21T12:11:52.251397Z",
     "start_time": "2025-04-21T11:48:34.690910Z"
    }
   },
   "outputs": [
    {
     "name": "stderr",
     "output_type": "stream",
     "text": [
      "                                                                                              \r"
     ]
    },
    {
     "name": "stdout",
     "output_type": "stream",
     "text": [
      "Epoch   1/50 - LR: 0.0004000 | Train Loss: 1.6541, Train Acc: 37.29% | Test Loss: 1.4803, Test Acc: 50.00%\n"
     ]
    },
    {
     "name": "stderr",
     "output_type": "stream",
     "text": [
      "                                                                                              \r"
     ]
    },
    {
     "name": "stdout",
     "output_type": "stream",
     "text": [
      "Epoch   2/50 - LR: 0.0004000 | Train Loss: 1.1404, Train Acc: 57.39% | Test Loss: 1.3500, Test Acc: 55.08%\n"
     ]
    },
    {
     "name": "stderr",
     "output_type": "stream",
     "text": [
      "                                                                                              \r"
     ]
    },
    {
     "name": "stdout",
     "output_type": "stream",
     "text": [
      "Epoch   3/50 - LR: 0.0004000 | Train Loss: 1.0178, Train Acc: 60.74% | Test Loss: 1.2061, Test Acc: 61.86%\n"
     ]
    },
    {
     "name": "stderr",
     "output_type": "stream",
     "text": [
      "                                                                                              \r"
     ]
    },
    {
     "name": "stdout",
     "output_type": "stream",
     "text": [
      "Epoch   4/50 - LR: 0.0004000 | Train Loss: 0.8426, Train Acc: 66.50% | Test Loss: 1.2023, Test Acc: 59.32%\n"
     ]
    },
    {
     "name": "stderr",
     "output_type": "stream",
     "text": [
      "                                                                                              \r"
     ]
    },
    {
     "name": "stdout",
     "output_type": "stream",
     "text": [
      "Epoch   5/50 - LR: 0.0004000 | Train Loss: 0.8031, Train Acc: 68.78% | Test Loss: 1.1117, Test Acc: 59.32%\n"
     ]
    },
    {
     "name": "stderr",
     "output_type": "stream",
     "text": [
      "                                                                                              \r"
     ]
    },
    {
     "name": "stdout",
     "output_type": "stream",
     "text": [
      "Epoch   6/50 - LR: 0.0004000 | Train Loss: 0.7671, Train Acc: 68.60% | Test Loss: 1.2280, Test Acc: 66.10%\n"
     ]
    },
    {
     "name": "stderr",
     "output_type": "stream",
     "text": [
      "                                                                                              \r"
     ]
    },
    {
     "name": "stdout",
     "output_type": "stream",
     "text": [
      "Epoch   7/50 - LR: 0.0004000 | Train Loss: 0.6981, Train Acc: 70.57% | Test Loss: 1.0882, Test Acc: 67.80%\n"
     ]
    },
    {
     "name": "stderr",
     "output_type": "stream",
     "text": [
      "                                                                                              \r"
     ]
    },
    {
     "name": "stdout",
     "output_type": "stream",
     "text": [
      "Epoch   8/50 - LR: 0.0004000 | Train Loss: 0.6498, Train Acc: 73.92% | Test Loss: 1.0220, Test Acc: 65.25%\n"
     ]
    },
    {
     "name": "stderr",
     "output_type": "stream",
     "text": [
      "                                                                                              \r"
     ]
    },
    {
     "name": "stdout",
     "output_type": "stream",
     "text": [
      "Epoch   9/50 - LR: 0.0004000 | Train Loss: 0.6342, Train Acc: 74.94% | Test Loss: 1.1984, Test Acc: 64.41%\n"
     ]
    },
    {
     "name": "stderr",
     "output_type": "stream",
     "text": [
      "                                                                                               \r"
     ]
    },
    {
     "name": "stdout",
     "output_type": "stream",
     "text": [
      "Epoch  10/50 - LR: 0.0004000 | Train Loss: 0.5935, Train Acc: 76.42% | Test Loss: 1.1201, Test Acc: 67.80%\n"
     ]
    },
    {
     "name": "stderr",
     "output_type": "stream",
     "text": [
      "                                                                                               \r"
     ]
    },
    {
     "name": "stdout",
     "output_type": "stream",
     "text": [
      "Epoch  11/50 - LR: 0.0002000 | Train Loss: 0.4769, Train Acc: 80.17% | Test Loss: 1.0955, Test Acc: 66.95%\n"
     ]
    },
    {
     "name": "stderr",
     "output_type": "stream",
     "text": [
      "                                                                                               \r"
     ]
    },
    {
     "name": "stdout",
     "output_type": "stream",
     "text": [
      "Epoch  12/50 - LR: 0.0002000 | Train Loss: 0.4477, Train Acc: 81.38% | Test Loss: 0.9663, Test Acc: 71.19%\n"
     ]
    },
    {
     "name": "stderr",
     "output_type": "stream",
     "text": [
      "                                                                                               \r"
     ]
    },
    {
     "name": "stdout",
     "output_type": "stream",
     "text": [
      "Epoch  13/50 - LR: 0.0002000 | Train Loss: 0.4534, Train Acc: 81.73% | Test Loss: 1.3042, Test Acc: 65.25%\n"
     ]
    },
    {
     "name": "stderr",
     "output_type": "stream",
     "text": [
      "                                                                                               \r"
     ]
    },
    {
     "name": "stdout",
     "output_type": "stream",
     "text": [
      "Epoch  14/50 - LR: 0.0002000 | Train Loss: 0.4044, Train Acc: 82.00% | Test Loss: 1.0666, Test Acc: 64.41%\n"
     ]
    },
    {
     "name": "stderr",
     "output_type": "stream",
     "text": [
      "                                                                                               \r"
     ]
    },
    {
     "name": "stdout",
     "output_type": "stream",
     "text": [
      "Epoch  15/50 - LR: 0.0002000 | Train Loss: 0.3791, Train Acc: 83.30% | Test Loss: 0.9596, Test Acc: 71.19%\n"
     ]
    },
    {
     "name": "stderr",
     "output_type": "stream",
     "text": [
      "                                                                                               \r"
     ]
    },
    {
     "name": "stdout",
     "output_type": "stream",
     "text": [
      "Epoch  16/50 - LR: 0.0001000 | Train Loss: 0.3429, Train Acc: 85.26% | Test Loss: 0.9901, Test Acc: 70.34%\n"
     ]
    },
    {
     "name": "stderr",
     "output_type": "stream",
     "text": [
      "                                                                                               \r"
     ]
    },
    {
     "name": "stdout",
     "output_type": "stream",
     "text": [
      "Epoch  17/50 - LR: 0.0001000 | Train Loss: 0.3238, Train Acc: 85.44% | Test Loss: 0.9665, Test Acc: 68.64%\n"
     ]
    },
    {
     "name": "stderr",
     "output_type": "stream",
     "text": [
      "                                                                                               \r"
     ]
    },
    {
     "name": "stdout",
     "output_type": "stream",
     "text": [
      "Epoch  18/50 - LR: 0.0001000 | Train Loss: 0.3143, Train Acc: 86.42% | Test Loss: 1.0194, Test Acc: 72.03%\n"
     ]
    },
    {
     "name": "stderr",
     "output_type": "stream",
     "text": [
      "                                                                                               \r"
     ]
    },
    {
     "name": "stdout",
     "output_type": "stream",
     "text": [
      "Epoch  19/50 - LR: 0.0001000 | Train Loss: 0.3052, Train Acc: 87.05% | Test Loss: 1.0226, Test Acc: 66.95%\n"
     ]
    },
    {
     "name": "stderr",
     "output_type": "stream",
     "text": [
      "                                                                                               \r"
     ]
    },
    {
     "name": "stdout",
     "output_type": "stream",
     "text": [
      "Epoch  20/50 - LR: 0.0001000 | Train Loss: 0.2930, Train Acc: 87.23% | Test Loss: 1.0807, Test Acc: 66.10%\n"
     ]
    },
    {
     "name": "stderr",
     "output_type": "stream",
     "text": [
      "                                                                                               \r"
     ]
    },
    {
     "name": "stdout",
     "output_type": "stream",
     "text": [
      "Epoch  21/50 - LR: 0.0001000 | Train Loss: 0.3161, Train Acc: 86.02% | Test Loss: 1.2168, Test Acc: 65.25%\n"
     ]
    },
    {
     "name": "stderr",
     "output_type": "stream",
     "text": [
      "                                                                                               \r"
     ]
    },
    {
     "name": "stdout",
     "output_type": "stream",
     "text": [
      "Epoch  22/50 - LR: 0.0000500 | Train Loss: 0.2730, Train Acc: 88.70% | Test Loss: 1.1962, Test Acc: 66.10%\n"
     ]
    },
    {
     "name": "stderr",
     "output_type": "stream",
     "text": [
      "                                                                                               \r"
     ]
    },
    {
     "name": "stdout",
     "output_type": "stream",
     "text": [
      "Epoch  23/50 - LR: 0.0000500 | Train Loss: 0.2707, Train Acc: 88.30% | Test Loss: 1.2082, Test Acc: 66.95%\n"
     ]
    },
    {
     "name": "stderr",
     "output_type": "stream",
     "text": [
      "                                                                                               \r"
     ]
    },
    {
     "name": "stdout",
     "output_type": "stream",
     "text": [
      "Epoch  24/50 - LR: 0.0000500 | Train Loss: 0.2837, Train Acc: 87.85% | Test Loss: 1.1645, Test Acc: 68.64%\n"
     ]
    },
    {
     "name": "stderr",
     "output_type": "stream",
     "text": [
      "                                                                                               \r"
     ]
    },
    {
     "name": "stdout",
     "output_type": "stream",
     "text": [
      "Epoch  25/50 - LR: 0.0000250 | Train Loss: 0.2674, Train Acc: 88.34% | Test Loss: 1.0885, Test Acc: 66.95%\n"
     ]
    },
    {
     "name": "stderr",
     "output_type": "stream",
     "text": [
      "                                                                                               \r"
     ]
    },
    {
     "name": "stdout",
     "output_type": "stream",
     "text": [
      "Epoch  26/50 - LR: 0.0000250 | Train Loss: 0.2517, Train Acc: 88.88% | Test Loss: 1.1949, Test Acc: 63.56%\n"
     ]
    },
    {
     "name": "stderr",
     "output_type": "stream",
     "text": [
      "                                                                                               \r"
     ]
    },
    {
     "name": "stdout",
     "output_type": "stream",
     "text": [
      "Epoch  27/50 - LR: 0.0000250 | Train Loss: 0.2509, Train Acc: 88.97% | Test Loss: 1.1965, Test Acc: 65.25%\n"
     ]
    },
    {
     "name": "stderr",
     "output_type": "stream",
     "text": [
      "                                                                                               \r"
     ]
    },
    {
     "name": "stdout",
     "output_type": "stream",
     "text": [
      "Epoch  28/50 - LR: 0.0000125 | Train Loss: 0.2468, Train Acc: 88.88% | Test Loss: 1.1416, Test Acc: 63.56%\n"
     ]
    },
    {
     "name": "stderr",
     "output_type": "stream",
     "text": [
      "                                                                                               \r"
     ]
    },
    {
     "name": "stdout",
     "output_type": "stream",
     "text": [
      "Epoch  29/50 - LR: 0.0000125 | Train Loss: 0.2431, Train Acc: 89.95% | Test Loss: 1.2033, Test Acc: 66.95%\n"
     ]
    },
    {
     "name": "stderr",
     "output_type": "stream",
     "text": [
      "                                                                                               \r"
     ]
    },
    {
     "name": "stdout",
     "output_type": "stream",
     "text": [
      "Epoch  30/50 - LR: 0.0000125 | Train Loss: 0.2377, Train Acc: 89.37% | Test Loss: 1.1555, Test Acc: 67.80%\n"
     ]
    },
    {
     "name": "stderr",
     "output_type": "stream",
     "text": [
      "                                                                                               \r"
     ]
    },
    {
     "name": "stdout",
     "output_type": "stream",
     "text": [
      "Epoch  31/50 - LR: 0.0000063 | Train Loss: 0.2422, Train Acc: 89.82% | Test Loss: 1.1982, Test Acc: 63.56%\n"
     ]
    },
    {
     "name": "stderr",
     "output_type": "stream",
     "text": [
      "                                                                                               \r"
     ]
    },
    {
     "name": "stdout",
     "output_type": "stream",
     "text": [
      "Epoch  32/50 - LR: 0.0000063 | Train Loss: 0.2314, Train Acc: 89.73% | Test Loss: 1.2195, Test Acc: 68.64%\n"
     ]
    },
    {
     "name": "stderr",
     "output_type": "stream",
     "text": [
      "                                                                                               \r"
     ]
    },
    {
     "name": "stdout",
     "output_type": "stream",
     "text": [
      "Epoch  33/50 - LR: 0.0000063 | Train Loss: 0.2480, Train Acc: 88.57% | Test Loss: 1.1993, Test Acc: 65.25%\n"
     ]
    },
    {
     "name": "stderr",
     "output_type": "stream",
     "text": [
      "                                                                                               \r"
     ]
    },
    {
     "name": "stdout",
     "output_type": "stream",
     "text": [
      "Epoch  34/50 - LR: 0.0000031 | Train Loss: 0.2519, Train Acc: 89.01% | Test Loss: 1.1890, Test Acc: 67.80%\n"
     ]
    },
    {
     "name": "stderr",
     "output_type": "stream",
     "text": [
      "                                                                                               \r"
     ]
    },
    {
     "name": "stdout",
     "output_type": "stream",
     "text": [
      "Epoch  35/50 - LR: 0.0000031 | Train Loss: 0.2331, Train Acc: 89.73% | Test Loss: 1.2018, Test Acc: 64.41%\n"
     ]
    },
    {
     "name": "stderr",
     "output_type": "stream",
     "text": [
      "                                                                                               \r"
     ]
    },
    {
     "name": "stdout",
     "output_type": "stream",
     "text": [
      "Epoch  36/50 - LR: 0.0000031 | Train Loss: 0.2523, Train Acc: 89.64% | Test Loss: 1.2357, Test Acc: 66.95%\n"
     ]
    },
    {
     "name": "stderr",
     "output_type": "stream",
     "text": [
      "                                                                                               \r"
     ]
    },
    {
     "name": "stdout",
     "output_type": "stream",
     "text": [
      "Epoch  37/50 - LR: 0.0000016 | Train Loss: 0.2464, Train Acc: 89.33% | Test Loss: 1.2292, Test Acc: 66.10%\n"
     ]
    },
    {
     "name": "stderr",
     "output_type": "stream",
     "text": [
      "                                                                                               \r"
     ]
    },
    {
     "name": "stdout",
     "output_type": "stream",
     "text": [
      "Epoch  38/50 - LR: 0.0000016 | Train Loss: 0.2379, Train Acc: 89.10% | Test Loss: 1.1874, Test Acc: 65.25%\n"
     ]
    },
    {
     "name": "stderr",
     "output_type": "stream",
     "text": [
      "                                                                                               \r"
     ]
    },
    {
     "name": "stdout",
     "output_type": "stream",
     "text": [
      "Epoch  39/50 - LR: 0.0000016 | Train Loss: 0.2370, Train Acc: 90.08% | Test Loss: 1.2227, Test Acc: 66.95%\n"
     ]
    },
    {
     "name": "stderr",
     "output_type": "stream",
     "text": [
      "                                                                                               \r"
     ]
    },
    {
     "name": "stdout",
     "output_type": "stream",
     "text": [
      "Epoch  40/50 - LR: 0.0000010 | Train Loss: 0.2373, Train Acc: 89.82% | Test Loss: 1.2145, Test Acc: 68.64%\n"
     ]
    },
    {
     "name": "stderr",
     "output_type": "stream",
     "text": [
      "                                                                                               \r"
     ]
    },
    {
     "name": "stdout",
     "output_type": "stream",
     "text": [
      "Epoch  41/50 - LR: 0.0000010 | Train Loss: 0.2336, Train Acc: 90.40% | Test Loss: 1.1549, Test Acc: 66.95%\n"
     ]
    },
    {
     "name": "stderr",
     "output_type": "stream",
     "text": [
      "                                                                                               \r"
     ]
    },
    {
     "name": "stdout",
     "output_type": "stream",
     "text": [
      "Epoch  42/50 - LR: 0.0000010 | Train Loss: 0.2480, Train Acc: 89.37% | Test Loss: 1.1913, Test Acc: 67.80%\n"
     ]
    },
    {
     "name": "stderr",
     "output_type": "stream",
     "text": [
      "                                                                                               \r"
     ]
    },
    {
     "name": "stdout",
     "output_type": "stream",
     "text": [
      "Epoch  43/50 - LR: 0.0000010 | Train Loss: 0.2391, Train Acc: 89.77% | Test Loss: 1.1813, Test Acc: 66.10%\n"
     ]
    },
    {
     "name": "stderr",
     "output_type": "stream",
     "text": [
      "                                                                                               \r"
     ]
    },
    {
     "name": "stdout",
     "output_type": "stream",
     "text": [
      "Epoch  44/50 - LR: 0.0000010 | Train Loss: 0.2423, Train Acc: 89.77% | Test Loss: 1.2299, Test Acc: 64.41%\n"
     ]
    },
    {
     "name": "stderr",
     "output_type": "stream",
     "text": [
      "                                                                                               \r"
     ]
    },
    {
     "name": "stdout",
     "output_type": "stream",
     "text": [
      "Epoch  45/50 - LR: 0.0000010 | Train Loss: 0.2434, Train Acc: 89.73% | Test Loss: 1.2574, Test Acc: 65.25%\n"
     ]
    },
    {
     "name": "stderr",
     "output_type": "stream",
     "text": [
      "                                                                                               \r"
     ]
    },
    {
     "name": "stdout",
     "output_type": "stream",
     "text": [
      "Epoch  46/50 - LR: 0.0000010 | Train Loss: 0.2208, Train Acc: 90.26% | Test Loss: 1.2120, Test Acc: 66.95%\n"
     ]
    },
    {
     "name": "stderr",
     "output_type": "stream",
     "text": [
      "                                                                                               \r"
     ]
    },
    {
     "name": "stdout",
     "output_type": "stream",
     "text": [
      "Epoch  47/50 - LR: 0.0000010 | Train Loss: 0.2316, Train Acc: 89.91% | Test Loss: 1.1574, Test Acc: 64.41%\n"
     ]
    },
    {
     "name": "stderr",
     "output_type": "stream",
     "text": [
      "                                                                                               \r"
     ]
    },
    {
     "name": "stdout",
     "output_type": "stream",
     "text": [
      "Epoch  48/50 - LR: 0.0000010 | Train Loss: 0.2252, Train Acc: 89.50% | Test Loss: 1.2466, Test Acc: 66.10%\n"
     ]
    },
    {
     "name": "stderr",
     "output_type": "stream",
     "text": [
      "                                                                                               \r"
     ]
    },
    {
     "name": "stdout",
     "output_type": "stream",
     "text": [
      "Epoch  49/50 - LR: 0.0000010 | Train Loss: 0.2379, Train Acc: 89.15% | Test Loss: 1.2055, Test Acc: 63.56%\n"
     ]
    },
    {
     "name": "stderr",
     "output_type": "stream",
     "text": [
      "                                                                                               \r"
     ]
    },
    {
     "name": "stdout",
     "output_type": "stream",
     "text": [
      "Epoch  50/50 - LR: 0.0000010 | Train Loss: 0.2351, Train Acc: 89.50% | Test Loss: 1.2713, Test Acc: 67.80%\n"
     ]
    }
   ],
   "source": [
    "#%%time\n",
    "best_acc = 0.0\n",
    "\n",
    "# Training loop\n",
    "for epoch in range(epochs):\n",
    "    # Unfreeze at epoch n and reset optimizer and scheduler\n",
    "    if epoch == n:\n",
    "        optimizer = optimizer2\n",
    "        scheduler = scheduler2\n",
    "        for name, param in model.named_parameters():\n",
    "                param.requires_grad = True\n",
    "        print(\"Unfreezing all layers\")\n",
    "\n",
    "    # Training phase\n",
    "    model.train()\n",
    "    current_lr = scheduler.get_last_lr()[0]\n",
    "    running_loss = 0.0\n",
    "    correct_train = 0\n",
    "    total_train = 0\n",
    "\n",
    "    train_bar = tqdm(train_loader, desc=f\"Epoch {epoch + 1}/{epochs} [Train]\", leave=False)\n",
    "    for images, labels in train_bar:\n",
    "        images, labels = images.to(device), labels.to(device)\n",
    "\n",
    "        # --Non-Mixed Precision training--\n",
    "        outputs = model(images)\n",
    "        loss = loss_function(outputs, labels)\n",
    "\n",
    "        optimizer.zero_grad()\n",
    "        loss.backward()\n",
    "\n",
    "        clip_grad_norm_(model.parameters(), grad_clip)  # Gradient clipping\n",
    "        optimizer.step()\n",
    "        # --Non-Mixed Precision training--\n",
    "\n",
    "        # Calculate statistics\n",
    "        running_loss += loss.item() * images.size(0)\n",
    "        _, predicted = torch.max(outputs.data, 1)\n",
    "        total_train += labels.size(0)\n",
    "        correct_train += (predicted == labels).sum().item()\n",
    "\n",
    "        # Update progress bar\n",
    "        train_bar.set_postfix({\n",
    "            'loss': f\"{running_loss / total_train:.4f}\",\n",
    "            'acc': f\"{100. * correct_train / total_train:.2f}%\"\n",
    "        })\n",
    "\n",
    "    # Validation phase\n",
    "    model.eval()\n",
    "    val_loss = 0.0\n",
    "    correct_val = 0\n",
    "    total_val = 0\n",
    "\n",
    "    val_bar = tqdm(val_data, desc=f\"Epoch {epoch + 1}/{epochs} [Test]\", leave=False)\n",
    "    with torch.no_grad():\n",
    "        for images, labels in val_bar:\n",
    "            outputs = model(images)\n",
    "            loss = loss_function(outputs, labels)\n",
    "\n",
    "            val_loss += loss.item() * images.size(0)\n",
    "            _, predicted = torch.max(outputs.data, 1)\n",
    "            total_val += labels.size(0)\n",
    "            correct_val += (predicted == labels).sum().item()\n",
    "\n",
    "            # Update progress bar\n",
    "            val_bar.set_postfix({\n",
    "                'loss': f\"{val_loss / total_val:.4f}\",\n",
    "                'acc': f\"{100. * correct_val / total_val:.2f}%\"\n",
    "            })\n",
    "\n",
    "    # Update learning rate\n",
    "    if isinstance(scheduler, torch.optim.lr_scheduler.CosineAnnealingWarmRestarts) or isinstance(scheduler, torch.optim.lr_scheduler.CosineAnnealingLR):\n",
    "        scheduler.step()\n",
    "    else:\n",
    "        scheduler.step(torch.tensor(correct_val / total_val))\n",
    "\n",
    "    # Print epoch summary\n",
    "    print(f\"Epoch {epoch + 1:>3}/{epochs} - \"\n",
    "          f\"LR: {current_lr:.7f} | \"\n",
    "          f\"Train Loss: {running_loss / total_train:.4f}, Train Acc: {100. * correct_train / total_train:.2f}% | \"\n",
    "          f\"Test Loss: {val_loss / total_val:.4f}, Test Acc: {100. * correct_val / total_val:.2f}%\")\n",
    "    \n",
    "    # Save model parameters and training logs\n",
    "    arr_train_loss.append(running_loss / total_train)\n",
    "    arr_train_acc.append(100. * correct_train / total_train)\n",
    "    arr_test_loss.append(val_loss / total_val)\n",
    "    arr_test_acc.append(100. * correct_val / total_val)\n",
    "\n",
    "    # Save the best model\n",
    "    test_acc = 100. * correct_val / total_val\n",
    "    if test_acc > best_acc:\n",
    "        best_acc = test_acc\n",
    "        save_model_parameters(name=f\"best_test_acc\")\n",
    "\n",
    "# Save model parameters at the end of training\n",
    "save_model_parameters(name=f\"epoch_{epoch + 1}\")"
   ]
  },
  {
   "cell_type": "markdown",
   "id": "c7f05590085d19fe",
   "metadata": {},
   "source": [
    "### Training log and data export"
   ]
  },
  {
   "cell_type": "code",
   "execution_count": 19,
   "id": "88cbef08ee604230",
   "metadata": {
    "ExecuteTime": {
     "end_time": "2025-04-21T12:11:52.411762Z",
     "start_time": "2025-04-21T12:11:52.409200Z"
    }
   },
   "outputs": [
    {
     "data": {
      "image/png": "[encoded data removed]",
      "text/plain": [
       "<Figure size 1200x500 with 2 Axes>"
      ]
     },
     "metadata": {},
     "output_type": "display_data"
    }
   ],
   "source": [
    "import matplotlib.pyplot as plt\n",
    "plt.figure(figsize=(12, 5))\n",
    "\n",
    "plt.subplot(1, 2, 1)\n",
    "plt.plot(arr_train_loss, label='Train Loss', color='blue', linestyle='-')\n",
    "plt.plot(arr_test_loss, label='Test Loss', color='red', linestyle='-')\n",
    "plt.title('Training and Test Loss')\n",
    "plt.xlabel('Epoch')\n",
    "plt.ylabel('Loss')\n",
    "plt.legend()\n",
    "plt.grid(True, linestyle='--', alpha=0.5)\n",
    "plt.xticks(np.arange(start=0, stop=len(arr_train_loss)+1, step=10))\n",
    "plt.xlim(-5, len(arr_train_loss))\n",
    "plt.yticks(np.arange(start=0, stop=max(arr_train_loss) + 0.25, step=0.25))\n",
    "plt.ylim(0, max(arr_train_loss) + 0.25)\n",
    "\n",
    "plt.subplot(1, 2, 2)\n",
    "plt.plot(arr_train_acc, label='Train Acc', color='blue', linestyle='-')\n",
    "plt.plot(arr_test_acc, label='Test Acc', color='red', linestyle='-')\n",
    "plt.title('Training and Test Accuracy')\n",
    "plt.xlabel('Epoch')\n",
    "plt.ylabel('Accuracy')\n",
    "plt.legend()\n",
    "plt.grid(True, linestyle='--', alpha=0.5)\n",
    "plt.xticks(np.arange(start=0, stop=len(arr_train_loss)+1, step=10))\n",
    "plt.xlim(-5, len(arr_train_loss))\n",
    "plt.yticks(np.arange(start=max(min(arr_train_acc)//10*10-10, 0), stop=max(arr_train_acc)//10*10+30, step=10))\n",
    "\n",
    "\n",
    "plt.tight_layout()\n",
    "# plt.savefig('loss_acc_curves.png', dpi=300, bbox_inches='tight')\n",
    "plt.show()"
   ]
  },
  {
   "cell_type": "code",
   "execution_count": 20,
   "id": "1e080da5",
   "metadata": {},
   "outputs": [],
   "source": [
    "# template 2"
   ]
  }
 ],
 "metadata": {
  "kernelspec": {
   "display_name": "CSC671-S25-TeamProject",
   "language": "python",
   "name": "python3"
  },
  "language_info": {
   "codemirror_mode": {
    "name": "ipython",
    "version": 3
   },
   "file_extension": ".py",
   "mimetype": "text/x-python",
   "name": "python",
   "nbconvert_exporter": "python",
   "pygments_lexer": "ipython3",
   "version": "3.12.3"
  }
 },
 "nbformat": 4,
 "nbformat_minor": 5
}
