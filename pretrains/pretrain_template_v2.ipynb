{
 "cells": [
  {
   "cell_type": "markdown",
   "id": "e212769df2c79163",
   "metadata": {},
   "source": [
    "## Test with pretrained models"
   ]
  },
  {
   "cell_type": "code",
   "execution_count": 1,
   "id": "4fa5d0748a13767e",
   "metadata": {
    "ExecuteTime": {
     "end_time": "2025-04-21T11:48:34.142931Z",
     "start_time": "2025-04-21T11:48:31.294135Z"
    }
   },
   "outputs": [],
   "source": [
    "import torch\n",
    "import torch.nn as nn\n",
    "import torch.optim as optim\n",
    "import torch.optim.lr_scheduler\n",
    "from torch.optim.lr_scheduler import CosineAnnealingLR\n",
    "from torchvision import datasets, transforms\n",
    "import os\n",
    "import time\n",
    "import cpuinfo\n",
    "from tqdm import tqdm"
   ]
  },
  {
   "cell_type": "markdown",
   "id": "460da8d92d8804f",
   "metadata": {},
   "source": [
    "### File paths"
   ]
  },
  {
   "cell_type": "code",
   "execution_count": 2,
   "id": "7143543ffa0b1711",
   "metadata": {
    "ExecuteTime": {
     "end_time": "2025-04-21T11:48:34.284882Z",
     "start_time": "2025-04-21T11:48:34.282781Z"
    }
   },
   "outputs": [],
   "source": [
    "train_path = \"../data/Train\"    # paths for your training and testing dataset\n",
    "test_path = \"../data/Test\"\n",
    "input_parameter = \"\"            # paths for import and export custom model trainable parameters\n",
    "output_parameter = \"\""
   ]
  },
  {
   "cell_type": "markdown",
   "id": "c8f7a2a4da470e3e",
   "metadata": {},
   "source": [
    "### Pretrain Model of use from torchvision"
   ]
  },
  {
   "cell_type": "code",
   "execution_count": 3,
   "id": "9a34a8a8d04cb802",
   "metadata": {
    "ExecuteTime": {
     "end_time": "2025-04-21T11:48:34.447142Z",
     "start_time": "2025-04-21T11:48:34.298297Z"
    }
   },
   "outputs": [
    {
     "name": "stdout",
     "output_type": "stream",
     "text": [
      "Using model DenseNet\n"
     ]
    }
   ],
   "source": [
    "from torchvision.models import densenet121, DenseNet121_Weights\n",
    "model = densenet121(weights=DenseNet121_Weights.DEFAULT)\n",
    "print(f\"Using model {type(model).__name__}\")\n",
    "\n",
    "epochs = 60\n",
    "batch_size = 8 # adjust to your memory\n",
    "optimizer = optim.AdamW(\n",
    "    model.parameters(),\n",
    "    lr=3e-4,            # learning rate\n",
    "    weight_decay=1e-4,  # L2 regularization\n",
    "    betas=(0.9, 0.999), # Adam beta parameters\n",
    ")\n",
    "loss_function = nn.CrossEntropyLoss()\n",
    "scheduler = CosineAnnealingLR(  # learning rate scheduler\n",
    "    optimizer,\n",
    "    T_max=epochs,               # number of epochs before restart\n",
    "    eta_min=1e-6,               # minimum learning rate\n",
    ")"
   ]
  },
  {
   "cell_type": "code",
   "execution_count": 4,
   "id": "36de4213559fc515",
   "metadata": {
    "ExecuteTime": {
     "end_time": "2025-04-21T11:48:34.465665Z",
     "start_time": "2025-04-21T11:48:34.457418Z"
    }
   },
   "outputs": [
    {
     "data": {
      "text/plain": [
       "<torch._C.Generator at 0x7f6e60333510>"
      ]
     },
     "execution_count": 4,
     "metadata": {},
     "output_type": "execute_result"
    }
   ],
   "source": [
    "seed = 42\n",
    "torch.manual_seed(seed)"
   ]
  },
  {
   "cell_type": "markdown",
   "id": "6442bebb505eb1bb",
   "metadata": {},
   "source": [
    "### Data Preprocess Transformations"
   ]
  },
  {
   "cell_type": "code",
   "execution_count": 5,
   "id": "e7b2ef1842f83dd4",
   "metadata": {
    "ExecuteTime": {
     "end_time": "2025-04-21T11:48:34.481085Z",
     "start_time": "2025-04-21T11:48:34.477096Z"
    }
   },
   "outputs": [],
   "source": [
    "transform_train = transforms.Compose([  # on training dataset\n",
    "    transforms.RandomRotation(degrees=10),  # introduce varieties for better generalization\n",
    "    transforms.RandomResizedCrop(224),\n",
    "    transforms.RandomHorizontalFlip(p=0.5),\n",
    "    transforms.RandomVerticalFlip(p=0.5),\n",
    "    transforms.ColorJitter(brightness=0.2, contrast=0.2, saturation=0.2, hue=0.1),\n",
    "    transforms.ToTensor(),\n",
    "    transforms.Normalize(mean=[0.485, 0.456, 0.406], std=[0.229, 0.224, 0.225]) # ImageNet1K stats\n",
    "    ])\n",
    "\n",
    "transform_test = transforms.Compose([   # on test dataset\n",
    "    transforms.Resize(256),\n",
    "    transforms.CenterCrop(224),\n",
    "    transforms.ToTensor(),\n",
    "    transforms.Normalize(mean=[0.485, 0.456, 0.406], std=[0.229, 0.224, 0.225])\n",
    "    ])"
   ]
  },
  {
   "cell_type": "markdown",
   "id": "4332cc4f55b5e4bf",
   "metadata": {},
   "source": [
    "### Data Loader"
   ]
  },
  {
   "cell_type": "code",
   "execution_count": 6,
   "id": "2e0a404b216b26a8",
   "metadata": {
    "ExecuteTime": {
     "end_time": "2025-04-21T11:48:34.517225Z",
     "start_time": "2025-04-21T11:48:34.493177Z"
    }
   },
   "outputs": [
    {
     "name": "stdout",
     "output_type": "stream",
     "text": [
      "CPU count: 16\n",
      "Classes: ['actinic keratosis', 'basal cell carcinoma', 'dermatofibroma', 'melanoma', 'nevus', 'pigmented benign keratosis', 'seborrheic keratosis', 'squamous cell carcinoma', 'vascular lesion']\n"
     ]
    }
   ],
   "source": [
    "# Load datasets\n",
    "train_dataset = datasets.ImageFolder(root=train_path, transform=transform_train)\n",
    "test_dataset = datasets.ImageFolder(root=test_path, transform=transform_test)\n",
    "\n",
    "print(f\"CPU count: {os.cpu_count()}\")\n",
    "num_workers = min(4, os.cpu_count() // 2)  # Dynamically set num_workers\n",
    "train_loader = torch.utils.data.DataLoader(train_dataset, batch_size=batch_size, shuffle=True, num_workers=num_workers)\n",
    "test_loader = torch.utils.data.DataLoader(test_dataset, batch_size=batch_size, shuffle=False, num_workers=num_workers)\n",
    "\n",
    "print(f\"Classes: {train_dataset.classes}\")"
   ]
  },
  {
   "cell_type": "code",
   "execution_count": 7,
   "id": "83c2871148fc4fc3",
   "metadata": {
    "ExecuteTime": {
     "end_time": "2025-04-21T11:48:34.524281Z",
     "start_time": "2025-04-21T11:48:34.521216Z"
    }
   },
   "outputs": [],
   "source": [
    "# Edit the output layer of the model\n",
    "num_classes = len(train_dataset.classes)\n",
    "num_features = model.classifier.in_features\n",
    "model.classifier = nn.Sequential(\n",
    "    nn.Flatten(),\n",
    "    nn.Dropout(p=0.5),\n",
    "    nn.Linear(in_features=num_features, out_features=512),\n",
    "    nn.ReLU(),\n",
    "    nn.Linear(in_features=512, out_features=num_classes),\n",
    "    nn.Softmax(dim=1)  # Use Softmax for multi-class classification\n",
    ")"
   ]
  },
  {
   "cell_type": "markdown",
   "id": "f0cb341e63ac3245",
   "metadata": {},
   "source": [
    "### Device of use"
   ]
  },
  {
   "cell_type": "code",
   "execution_count": 8,
   "id": "6b004d517792bc90",
   "metadata": {
    "ExecuteTime": {
     "end_time": "2025-04-21T11:48:34.554176Z",
     "start_time": "2025-04-21T11:48:34.535550Z"
    }
   },
   "outputs": [
    {
     "name": "stdout",
     "output_type": "stream",
     "text": [
      "Using CPU: 13th Gen Intel(R) Core(TM) i5-13500H\n"
     ]
    }
   ],
   "source": [
    "device = torch.device(\"cuda\" if torch.cuda.is_available() else \"cpu\")\n",
    "#device = \"cpu\"\n",
    "\n",
    "if device == torch.device(\"cuda\"):\n",
    "    print(f\"Using GPU: {torch.cuda.get_device_name(device)}\")\n",
    "else:\n",
    "    cpu_info = cpuinfo.get_cpu_info()\n",
    "    print(f\"Using CPU: {cpu_info['brand_raw']}\")"
   ]
  },
  {
   "cell_type": "markdown",
   "id": "d1795a45e3c08a75",
   "metadata": {},
   "source": [
    "### Configure model parameters"
   ]
  },
  {
   "cell_type": "code",
   "execution_count": 9,
   "id": "dda5db7349fc7d89",
   "metadata": {
    "ExecuteTime": {
     "end_time": "2025-04-21T11:48:34.565876Z",
     "start_time": "2025-04-21T11:48:34.563196Z"
    }
   },
   "outputs": [],
   "source": [
    "# IF NEEDED\n",
    "# Load custom weight and optimizer states\n",
    "# if os.path.exists(input_parameter):\n",
    "#     checkpoint = torch.load(\"test_weights.pth\", map_location=device)\n",
    "#     model.load_state_dict(checkpoint['model_state_dict'])\n",
    "#     optimizer.load_state_dict(checkpoint['optimizer_state_dict'])"
   ]
  },
  {
   "cell_type": "code",
   "execution_count": 10,
   "id": "ded31e95efe3a765",
   "metadata": {
    "ExecuteTime": {
     "end_time": "2025-04-21T11:48:34.588042Z",
     "start_time": "2025-04-21T11:48:34.585548Z"
    }
   },
   "outputs": [],
   "source": [
    "# # Selective layer freezing\n",
    "# # change base on your model\n",
    "# # \"Early layers are often already well-optimized\" by ChatGPT-O4\n",
    "# for _, param in model.named_parameters():\n",
    "#     param.requires_grad = True          # Unfreeze all layers first\n",
    "# for name, param in model.named_parameters():\n",
    "#     if \"classifier\" not in name:\n",
    "#         param.requires_grad = False     # Freeze everything except the last classifier layer"
   ]
  },
  {
   "cell_type": "code",
   "execution_count": 11,
   "id": "3247b01c5c37b276",
   "metadata": {
    "ExecuteTime": {
     "end_time": "2025-04-21T11:48:34.687917Z",
     "start_time": "2025-04-21T11:48:34.598546Z"
    }
   },
   "outputs": [
    {
     "name": "stdout",
     "output_type": "stream",
     "text": [
      "Model is on cpu\n"
     ]
    }
   ],
   "source": [
    "# Move model to device\n",
    "model.to(device)\n",
    "print(f\"Model is on {next(model.parameters()).device}\")"
   ]
  },
  {
   "cell_type": "code",
   "execution_count": null,
   "id": "69e6c43f",
   "metadata": {},
   "outputs": [
    {
     "name": "stdout",
     "output_type": "stream",
     "text": [
      "==========================================================================================\n",
      "Layer (type:depth-idx)                   Output Shape              Param #\n",
      "==========================================================================================\n",
      "DenseNet                                 [8, 9]                    --\n",
      "├─Sequential: 1-1                        [8, 1024, 7, 7]           --\n",
      "│    └─Conv2d: 2-1                       [8, 64, 112, 112]         9,408\n",
      "│    └─BatchNorm2d: 2-2                  [8, 64, 112, 112]         128\n",
      "│    └─ReLU: 2-3                         [8, 64, 112, 112]         --\n",
      "│    └─MaxPool2d: 2-4                    [8, 64, 56, 56]           --\n",
      "│    └─_DenseBlock: 2-5                  [8, 256, 56, 56]          --\n",
      "│    │    └─_DenseLayer: 3-1             [8, 32, 56, 56]           --\n",
      "│    │    │    └─BatchNorm2d: 4-1        [8, 64, 56, 56]           128\n",
      "│    │    │    └─ReLU: 4-2               [8, 64, 56, 56]           --\n",
      "│    │    │    └─Conv2d: 4-3             [8, 128, 56, 56]          8,192\n",
      "│    │    │    └─BatchNorm2d: 4-4        [8, 128, 56, 56]          256\n",
      "│    │    │    └─ReLU: 4-5               [8, 128, 56, 56]          --\n",
      "│    │    │    └─Conv2d: 4-6             [8, 32, 56, 56]           36,864\n",
      "│    │    └─_DenseLayer: 3-2             [8, 32, 56, 56]           --\n",
      "│    │    │    └─BatchNorm2d: 4-7        [8, 96, 56, 56]           192\n",
      "│    │    │    └─ReLU: 4-8               [8, 96, 56, 56]           --\n",
      "│    │    │    └─Conv2d: 4-9             [8, 128, 56, 56]          12,288\n",
      "│    │    │    └─BatchNorm2d: 4-10       [8, 128, 56, 56]          256\n",
      "│    │    │    └─ReLU: 4-11              [8, 128, 56, 56]          --\n",
      "│    │    │    └─Conv2d: 4-12            [8, 32, 56, 56]           36,864\n",
      "│    │    └─_DenseLayer: 3-3             [8, 32, 56, 56]           --\n",
      "│    │    │    └─BatchNorm2d: 4-13       [8, 128, 56, 56]          256\n",
      "│    │    │    └─ReLU: 4-14              [8, 128, 56, 56]          --\n",
      "│    │    │    └─Conv2d: 4-15            [8, 128, 56, 56]          16,384\n",
      "│    │    │    └─BatchNorm2d: 4-16       [8, 128, 56, 56]          256\n",
      "│    │    │    └─ReLU: 4-17              [8, 128, 56, 56]          --\n",
      "│    │    │    └─Conv2d: 4-18            [8, 32, 56, 56]           36,864\n",
      "│    │    └─_DenseLayer: 3-4             [8, 32, 56, 56]           --\n",
      "│    │    │    └─BatchNorm2d: 4-19       [8, 160, 56, 56]          320\n",
      "│    │    │    └─ReLU: 4-20              [8, 160, 56, 56]          --\n",
      "│    │    │    └─Conv2d: 4-21            [8, 128, 56, 56]          20,480\n",
      "│    │    │    └─BatchNorm2d: 4-22       [8, 128, 56, 56]          256\n",
      "│    │    │    └─ReLU: 4-23              [8, 128, 56, 56]          --\n",
      "│    │    │    └─Conv2d: 4-24            [8, 32, 56, 56]           36,864\n",
      "│    │    └─_DenseLayer: 3-5             [8, 32, 56, 56]           --\n",
      "│    │    │    └─BatchNorm2d: 4-25       [8, 192, 56, 56]          384\n",
      "│    │    │    └─ReLU: 4-26              [8, 192, 56, 56]          --\n",
      "│    │    │    └─Conv2d: 4-27            [8, 128, 56, 56]          24,576\n",
      "│    │    │    └─BatchNorm2d: 4-28       [8, 128, 56, 56]          256\n",
      "│    │    │    └─ReLU: 4-29              [8, 128, 56, 56]          --\n",
      "│    │    │    └─Conv2d: 4-30            [8, 32, 56, 56]           36,864\n",
      "│    │    └─_DenseLayer: 3-6             [8, 32, 56, 56]           --\n",
      "│    │    │    └─BatchNorm2d: 4-31       [8, 224, 56, 56]          448\n",
      "│    │    │    └─ReLU: 4-32              [8, 224, 56, 56]          --\n",
      "│    │    │    └─Conv2d: 4-33            [8, 128, 56, 56]          28,672\n",
      "│    │    │    └─BatchNorm2d: 4-34       [8, 128, 56, 56]          256\n",
      "│    │    │    └─ReLU: 4-35              [8, 128, 56, 56]          --\n",
      "│    │    │    └─Conv2d: 4-36            [8, 32, 56, 56]           36,864\n",
      "│    └─_Transition: 2-6                  [8, 128, 28, 28]          --\n",
      "│    │    └─BatchNorm2d: 3-7             [8, 256, 56, 56]          512\n",
      "│    │    └─ReLU: 3-8                    [8, 256, 56, 56]          --\n",
      "│    │    └─Conv2d: 3-9                  [8, 128, 56, 56]          32,768\n",
      "│    │    └─AvgPool2d: 3-10              [8, 128, 28, 28]          --\n",
      "│    └─_DenseBlock: 2-7                  [8, 512, 28, 28]          --\n",
      "│    │    └─_DenseLayer: 3-11            [8, 32, 28, 28]           --\n",
      "│    │    │    └─BatchNorm2d: 4-37       [8, 128, 28, 28]          256\n",
      "│    │    │    └─ReLU: 4-38              [8, 128, 28, 28]          --\n",
      "│    │    │    └─Conv2d: 4-39            [8, 128, 28, 28]          16,384\n",
      "│    │    │    └─BatchNorm2d: 4-40       [8, 128, 28, 28]          256\n",
      "│    │    │    └─ReLU: 4-41              [8, 128, 28, 28]          --\n",
      "│    │    │    └─Conv2d: 4-42            [8, 32, 28, 28]           36,864\n",
      "│    │    └─_DenseLayer: 3-12            [8, 32, 28, 28]           --\n",
      "│    │    │    └─BatchNorm2d: 4-43       [8, 160, 28, 28]          320\n",
      "│    │    │    └─ReLU: 4-44              [8, 160, 28, 28]          --\n",
      "│    │    │    └─Conv2d: 4-45            [8, 128, 28, 28]          20,480\n",
      "│    │    │    └─BatchNorm2d: 4-46       [8, 128, 28, 28]          256\n",
      "│    │    │    └─ReLU: 4-47              [8, 128, 28, 28]          --\n",
      "│    │    │    └─Conv2d: 4-48            [8, 32, 28, 28]           36,864\n",
      "│    │    └─_DenseLayer: 3-13            [8, 32, 28, 28]           --\n",
      "│    │    │    └─BatchNorm2d: 4-49       [8, 192, 28, 28]          384\n",
      "│    │    │    └─ReLU: 4-50              [8, 192, 28, 28]          --\n",
      "│    │    │    └─Conv2d: 4-51            [8, 128, 28, 28]          24,576\n",
      "│    │    │    └─BatchNorm2d: 4-52       [8, 128, 28, 28]          256\n",
      "│    │    │    └─ReLU: 4-53              [8, 128, 28, 28]          --\n",
      "│    │    │    └─Conv2d: 4-54            [8, 32, 28, 28]           36,864\n",
      "│    │    └─_DenseLayer: 3-14            [8, 32, 28, 28]           --\n",
      "│    │    │    └─BatchNorm2d: 4-55       [8, 224, 28, 28]          448\n",
      "│    │    │    └─ReLU: 4-56              [8, 224, 28, 28]          --\n",
      "│    │    │    └─Conv2d: 4-57            [8, 128, 28, 28]          28,672\n",
      "│    │    │    └─BatchNorm2d: 4-58       [8, 128, 28, 28]          256\n",
      "│    │    │    └─ReLU: 4-59              [8, 128, 28, 28]          --\n",
      "│    │    │    └─Conv2d: 4-60            [8, 32, 28, 28]           36,864\n",
      "│    │    └─_DenseLayer: 3-15            [8, 32, 28, 28]           --\n",
      "│    │    │    └─BatchNorm2d: 4-61       [8, 256, 28, 28]          512\n",
      "│    │    │    └─ReLU: 4-62              [8, 256, 28, 28]          --\n",
      "│    │    │    └─Conv2d: 4-63            [8, 128, 28, 28]          32,768\n",
      "│    │    │    └─BatchNorm2d: 4-64       [8, 128, 28, 28]          256\n",
      "│    │    │    └─ReLU: 4-65              [8, 128, 28, 28]          --\n",
      "│    │    │    └─Conv2d: 4-66            [8, 32, 28, 28]           36,864\n",
      "│    │    └─_DenseLayer: 3-16            [8, 32, 28, 28]           --\n",
      "│    │    │    └─BatchNorm2d: 4-67       [8, 288, 28, 28]          576\n",
      "│    │    │    └─ReLU: 4-68              [8, 288, 28, 28]          --\n",
      "│    │    │    └─Conv2d: 4-69            [8, 128, 28, 28]          36,864\n",
      "│    │    │    └─BatchNorm2d: 4-70       [8, 128, 28, 28]          256\n",
      "│    │    │    └─ReLU: 4-71              [8, 128, 28, 28]          --\n",
      "│    │    │    └─Conv2d: 4-72            [8, 32, 28, 28]           36,864\n",
      "│    │    └─_DenseLayer: 3-17            [8, 32, 28, 28]           --\n",
      "│    │    │    └─BatchNorm2d: 4-73       [8, 320, 28, 28]          640\n",
      "│    │    │    └─ReLU: 4-74              [8, 320, 28, 28]          --\n",
      "│    │    │    └─Conv2d: 4-75            [8, 128, 28, 28]          40,960\n",
      "│    │    │    └─BatchNorm2d: 4-76       [8, 128, 28, 28]          256\n",
      "│    │    │    └─ReLU: 4-77              [8, 128, 28, 28]          --\n",
      "│    │    │    └─Conv2d: 4-78            [8, 32, 28, 28]           36,864\n",
      "│    │    └─_DenseLayer: 3-18            [8, 32, 28, 28]           --\n",
      "│    │    │    └─BatchNorm2d: 4-79       [8, 352, 28, 28]          704\n",
      "│    │    │    └─ReLU: 4-80              [8, 352, 28, 28]          --\n",
      "│    │    │    └─Conv2d: 4-81            [8, 128, 28, 28]          45,056\n",
      "│    │    │    └─BatchNorm2d: 4-82       [8, 128, 28, 28]          256\n",
      "│    │    │    └─ReLU: 4-83              [8, 128, 28, 28]          --\n",
      "│    │    │    └─Conv2d: 4-84            [8, 32, 28, 28]           36,864\n",
      "│    │    └─_DenseLayer: 3-19            [8, 32, 28, 28]           --\n",
      "│    │    │    └─BatchNorm2d: 4-85       [8, 384, 28, 28]          768\n",
      "│    │    │    └─ReLU: 4-86              [8, 384, 28, 28]          --\n",
      "│    │    │    └─Conv2d: 4-87            [8, 128, 28, 28]          49,152\n",
      "│    │    │    └─BatchNorm2d: 4-88       [8, 128, 28, 28]          256\n",
      "│    │    │    └─ReLU: 4-89              [8, 128, 28, 28]          --\n",
      "│    │    │    └─Conv2d: 4-90            [8, 32, 28, 28]           36,864\n",
      "│    │    └─_DenseLayer: 3-20            [8, 32, 28, 28]           --\n",
      "│    │    │    └─BatchNorm2d: 4-91       [8, 416, 28, 28]          832\n",
      "│    │    │    └─ReLU: 4-92              [8, 416, 28, 28]          --\n",
      "│    │    │    └─Conv2d: 4-93            [8, 128, 28, 28]          53,248\n",
      "│    │    │    └─BatchNorm2d: 4-94       [8, 128, 28, 28]          256\n",
      "│    │    │    └─ReLU: 4-95              [8, 128, 28, 28]          --\n",
      "│    │    │    └─Conv2d: 4-96            [8, 32, 28, 28]           36,864\n",
      "│    │    └─_DenseLayer: 3-21            [8, 32, 28, 28]           --\n",
      "│    │    │    └─BatchNorm2d: 4-97       [8, 448, 28, 28]          896\n",
      "│    │    │    └─ReLU: 4-98              [8, 448, 28, 28]          --\n",
      "│    │    │    └─Conv2d: 4-99            [8, 128, 28, 28]          57,344\n",
      "│    │    │    └─BatchNorm2d: 4-100      [8, 128, 28, 28]          256\n",
      "│    │    │    └─ReLU: 4-101             [8, 128, 28, 28]          --\n",
      "│    │    │    └─Conv2d: 4-102           [8, 32, 28, 28]           36,864\n",
      "│    │    └─_DenseLayer: 3-22            [8, 32, 28, 28]           --\n",
      "│    │    │    └─BatchNorm2d: 4-103      [8, 480, 28, 28]          960\n",
      "│    │    │    └─ReLU: 4-104             [8, 480, 28, 28]          --\n",
      "│    │    │    └─Conv2d: 4-105           [8, 128, 28, 28]          61,440\n",
      "│    │    │    └─BatchNorm2d: 4-106      [8, 128, 28, 28]          256\n",
      "│    │    │    └─ReLU: 4-107             [8, 128, 28, 28]          --\n",
      "│    │    │    └─Conv2d: 4-108           [8, 32, 28, 28]           36,864\n",
      "│    └─_Transition: 2-8                  [8, 256, 14, 14]          --\n",
      "│    │    └─BatchNorm2d: 3-23            [8, 512, 28, 28]          1,024\n",
      "│    │    └─ReLU: 3-24                   [8, 512, 28, 28]          --\n",
      "│    │    └─Conv2d: 3-25                 [8, 256, 28, 28]          131,072\n",
      "│    │    └─AvgPool2d: 3-26              [8, 256, 14, 14]          --\n",
      "│    └─_DenseBlock: 2-9                  [8, 1024, 14, 14]         --\n",
      "│    │    └─_DenseLayer: 3-27            [8, 32, 14, 14]           --\n",
      "│    │    │    └─BatchNorm2d: 4-109      [8, 256, 14, 14]          512\n",
      "│    │    │    └─ReLU: 4-110             [8, 256, 14, 14]          --\n",
      "│    │    │    └─Conv2d: 4-111           [8, 128, 14, 14]          32,768\n",
      "│    │    │    └─BatchNorm2d: 4-112      [8, 128, 14, 14]          256\n",
      "│    │    │    └─ReLU: 4-113             [8, 128, 14, 14]          --\n",
      "│    │    │    └─Conv2d: 4-114           [8, 32, 14, 14]           36,864\n",
      "│    │    └─_DenseLayer: 3-28            [8, 32, 14, 14]           --\n",
      "│    │    │    └─BatchNorm2d: 4-115      [8, 288, 14, 14]          576\n",
      "│    │    │    └─ReLU: 4-116             [8, 288, 14, 14]          --\n",
      "│    │    │    └─Conv2d: 4-117           [8, 128, 14, 14]          36,864\n",
      "│    │    │    └─BatchNorm2d: 4-118      [8, 128, 14, 14]          256\n",
      "│    │    │    └─ReLU: 4-119             [8, 128, 14, 14]          --\n",
      "│    │    │    └─Conv2d: 4-120           [8, 32, 14, 14]           36,864\n",
      "│    │    └─_DenseLayer: 3-29            [8, 32, 14, 14]           --\n",
      "│    │    │    └─BatchNorm2d: 4-121      [8, 320, 14, 14]          640\n",
      "│    │    │    └─ReLU: 4-122             [8, 320, 14, 14]          --\n",
      "│    │    │    └─Conv2d: 4-123           [8, 128, 14, 14]          40,960\n",
      "│    │    │    └─BatchNorm2d: 4-124      [8, 128, 14, 14]          256\n",
      "│    │    │    └─ReLU: 4-125             [8, 128, 14, 14]          --\n",
      "│    │    │    └─Conv2d: 4-126           [8, 32, 14, 14]           36,864\n",
      "│    │    └─_DenseLayer: 3-30            [8, 32, 14, 14]           --\n",
      "│    │    │    └─BatchNorm2d: 4-127      [8, 352, 14, 14]          704\n",
      "│    │    │    └─ReLU: 4-128             [8, 352, 14, 14]          --\n",
      "│    │    │    └─Conv2d: 4-129           [8, 128, 14, 14]          45,056\n",
      "│    │    │    └─BatchNorm2d: 4-130      [8, 128, 14, 14]          256\n",
      "│    │    │    └─ReLU: 4-131             [8, 128, 14, 14]          --\n",
      "│    │    │    └─Conv2d: 4-132           [8, 32, 14, 14]           36,864\n",
      "│    │    └─_DenseLayer: 3-31            [8, 32, 14, 14]           --\n",
      "│    │    │    └─BatchNorm2d: 4-133      [8, 384, 14, 14]          768\n",
      "│    │    │    └─ReLU: 4-134             [8, 384, 14, 14]          --\n",
      "│    │    │    └─Conv2d: 4-135           [8, 128, 14, 14]          49,152\n",
      "│    │    │    └─BatchNorm2d: 4-136      [8, 128, 14, 14]          256\n",
      "│    │    │    └─ReLU: 4-137             [8, 128, 14, 14]          --\n",
      "│    │    │    └─Conv2d: 4-138           [8, 32, 14, 14]           36,864\n",
      "│    │    └─_DenseLayer: 3-32            [8, 32, 14, 14]           --\n",
      "│    │    │    └─BatchNorm2d: 4-139      [8, 416, 14, 14]          832\n",
      "│    │    │    └─ReLU: 4-140             [8, 416, 14, 14]          --\n",
      "│    │    │    └─Conv2d: 4-141           [8, 128, 14, 14]          53,248\n",
      "│    │    │    └─BatchNorm2d: 4-142      [8, 128, 14, 14]          256\n",
      "│    │    │    └─ReLU: 4-143             [8, 128, 14, 14]          --\n",
      "│    │    │    └─Conv2d: 4-144           [8, 32, 14, 14]           36,864\n",
      "│    │    └─_DenseLayer: 3-33            [8, 32, 14, 14]           --\n",
      "│    │    │    └─BatchNorm2d: 4-145      [8, 448, 14, 14]          896\n",
      "│    │    │    └─ReLU: 4-146             [8, 448, 14, 14]          --\n",
      "│    │    │    └─Conv2d: 4-147           [8, 128, 14, 14]          57,344\n",
      "│    │    │    └─BatchNorm2d: 4-148      [8, 128, 14, 14]          256\n",
      "│    │    │    └─ReLU: 4-149             [8, 128, 14, 14]          --\n",
      "│    │    │    └─Conv2d: 4-150           [8, 32, 14, 14]           36,864\n",
      "│    │    └─_DenseLayer: 3-34            [8, 32, 14, 14]           --\n",
      "│    │    │    └─BatchNorm2d: 4-151      [8, 480, 14, 14]          960\n",
      "│    │    │    └─ReLU: 4-152             [8, 480, 14, 14]          --\n",
      "│    │    │    └─Conv2d: 4-153           [8, 128, 14, 14]          61,440\n",
      "│    │    │    └─BatchNorm2d: 4-154      [8, 128, 14, 14]          256\n",
      "│    │    │    └─ReLU: 4-155             [8, 128, 14, 14]          --\n",
      "│    │    │    └─Conv2d: 4-156           [8, 32, 14, 14]           36,864\n",
      "│    │    └─_DenseLayer: 3-35            [8, 32, 14, 14]           --\n",
      "│    │    │    └─BatchNorm2d: 4-157      [8, 512, 14, 14]          1,024\n",
      "│    │    │    └─ReLU: 4-158             [8, 512, 14, 14]          --\n",
      "│    │    │    └─Conv2d: 4-159           [8, 128, 14, 14]          65,536\n",
      "│    │    │    └─BatchNorm2d: 4-160      [8, 128, 14, 14]          256\n",
      "│    │    │    └─ReLU: 4-161             [8, 128, 14, 14]          --\n",
      "│    │    │    └─Conv2d: 4-162           [8, 32, 14, 14]           36,864\n",
      "│    │    └─_DenseLayer: 3-36            [8, 32, 14, 14]           --\n",
      "│    │    │    └─BatchNorm2d: 4-163      [8, 544, 14, 14]          1,088\n",
      "│    │    │    └─ReLU: 4-164             [8, 544, 14, 14]          --\n",
      "│    │    │    └─Conv2d: 4-165           [8, 128, 14, 14]          69,632\n",
      "│    │    │    └─BatchNorm2d: 4-166      [8, 128, 14, 14]          256\n",
      "│    │    │    └─ReLU: 4-167             [8, 128, 14, 14]          --\n",
      "│    │    │    └─Conv2d: 4-168           [8, 32, 14, 14]           36,864\n",
      "│    │    └─_DenseLayer: 3-37            [8, 32, 14, 14]           --\n",
      "│    │    │    └─BatchNorm2d: 4-169      [8, 576, 14, 14]          1,152\n",
      "│    │    │    └─ReLU: 4-170             [8, 576, 14, 14]          --\n",
      "│    │    │    └─Conv2d: 4-171           [8, 128, 14, 14]          73,728\n",
      "│    │    │    └─BatchNorm2d: 4-172      [8, 128, 14, 14]          256\n",
      "│    │    │    └─ReLU: 4-173             [8, 128, 14, 14]          --\n",
      "│    │    │    └─Conv2d: 4-174           [8, 32, 14, 14]           36,864\n",
      "│    │    └─_DenseLayer: 3-38            [8, 32, 14, 14]           --\n",
      "│    │    │    └─BatchNorm2d: 4-175      [8, 608, 14, 14]          1,216\n",
      "│    │    │    └─ReLU: 4-176             [8, 608, 14, 14]          --\n",
      "│    │    │    └─Conv2d: 4-177           [8, 128, 14, 14]          77,824\n",
      "│    │    │    └─BatchNorm2d: 4-178      [8, 128, 14, 14]          256\n",
      "│    │    │    └─ReLU: 4-179             [8, 128, 14, 14]          --\n",
      "│    │    │    └─Conv2d: 4-180           [8, 32, 14, 14]           36,864\n",
      "│    │    └─_DenseLayer: 3-39            [8, 32, 14, 14]           --\n",
      "│    │    │    └─BatchNorm2d: 4-181      [8, 640, 14, 14]          1,280\n",
      "│    │    │    └─ReLU: 4-182             [8, 640, 14, 14]          --\n",
      "│    │    │    └─Conv2d: 4-183           [8, 128, 14, 14]          81,920\n",
      "│    │    │    └─BatchNorm2d: 4-184      [8, 128, 14, 14]          256\n",
      "│    │    │    └─ReLU: 4-185             [8, 128, 14, 14]          --\n",
      "│    │    │    └─Conv2d: 4-186           [8, 32, 14, 14]           36,864\n",
      "│    │    └─_DenseLayer: 3-40            [8, 32, 14, 14]           --\n",
      "│    │    │    └─BatchNorm2d: 4-187      [8, 672, 14, 14]          1,344\n",
      "│    │    │    └─ReLU: 4-188             [8, 672, 14, 14]          --\n",
      "│    │    │    └─Conv2d: 4-189           [8, 128, 14, 14]          86,016\n",
      "│    │    │    └─BatchNorm2d: 4-190      [8, 128, 14, 14]          256\n",
      "│    │    │    └─ReLU: 4-191             [8, 128, 14, 14]          --\n",
      "│    │    │    └─Conv2d: 4-192           [8, 32, 14, 14]           36,864\n",
      "│    │    └─_DenseLayer: 3-41            [8, 32, 14, 14]           --\n",
      "│    │    │    └─BatchNorm2d: 4-193      [8, 704, 14, 14]          1,408\n",
      "│    │    │    └─ReLU: 4-194             [8, 704, 14, 14]          --\n",
      "│    │    │    └─Conv2d: 4-195           [8, 128, 14, 14]          90,112\n",
      "│    │    │    └─BatchNorm2d: 4-196      [8, 128, 14, 14]          256\n",
      "│    │    │    └─ReLU: 4-197             [8, 128, 14, 14]          --\n",
      "│    │    │    └─Conv2d: 4-198           [8, 32, 14, 14]           36,864\n",
      "│    │    └─_DenseLayer: 3-42            [8, 32, 14, 14]           --\n",
      "│    │    │    └─BatchNorm2d: 4-199      [8, 736, 14, 14]          1,472\n",
      "│    │    │    └─ReLU: 4-200             [8, 736, 14, 14]          --\n",
      "│    │    │    └─Conv2d: 4-201           [8, 128, 14, 14]          94,208\n",
      "│    │    │    └─BatchNorm2d: 4-202      [8, 128, 14, 14]          256\n",
      "│    │    │    └─ReLU: 4-203             [8, 128, 14, 14]          --\n",
      "│    │    │    └─Conv2d: 4-204           [8, 32, 14, 14]           36,864\n",
      "│    │    └─_DenseLayer: 3-43            [8, 32, 14, 14]           --\n",
      "│    │    │    └─BatchNorm2d: 4-205      [8, 768, 14, 14]          1,536\n",
      "│    │    │    └─ReLU: 4-206             [8, 768, 14, 14]          --\n",
      "│    │    │    └─Conv2d: 4-207           [8, 128, 14, 14]          98,304\n",
      "│    │    │    └─BatchNorm2d: 4-208      [8, 128, 14, 14]          256\n",
      "│    │    │    └─ReLU: 4-209             [8, 128, 14, 14]          --\n",
      "│    │    │    └─Conv2d: 4-210           [8, 32, 14, 14]           36,864\n",
      "│    │    └─_DenseLayer: 3-44            [8, 32, 14, 14]           --\n",
      "│    │    │    └─BatchNorm2d: 4-211      [8, 800, 14, 14]          1,600\n",
      "│    │    │    └─ReLU: 4-212             [8, 800, 14, 14]          --\n",
      "│    │    │    └─Conv2d: 4-213           [8, 128, 14, 14]          102,400\n",
      "│    │    │    └─BatchNorm2d: 4-214      [8, 128, 14, 14]          256\n",
      "│    │    │    └─ReLU: 4-215             [8, 128, 14, 14]          --\n",
      "│    │    │    └─Conv2d: 4-216           [8, 32, 14, 14]           36,864\n",
      "│    │    └─_DenseLayer: 3-45            [8, 32, 14, 14]           --\n",
      "│    │    │    └─BatchNorm2d: 4-217      [8, 832, 14, 14]          1,664\n",
      "│    │    │    └─ReLU: 4-218             [8, 832, 14, 14]          --\n",
      "│    │    │    └─Conv2d: 4-219           [8, 128, 14, 14]          106,496\n",
      "│    │    │    └─BatchNorm2d: 4-220      [8, 128, 14, 14]          256\n",
      "│    │    │    └─ReLU: 4-221             [8, 128, 14, 14]          --\n",
      "│    │    │    └─Conv2d: 4-222           [8, 32, 14, 14]           36,864\n",
      "│    │    └─_DenseLayer: 3-46            [8, 32, 14, 14]           --\n",
      "│    │    │    └─BatchNorm2d: 4-223      [8, 864, 14, 14]          1,728\n",
      "│    │    │    └─ReLU: 4-224             [8, 864, 14, 14]          --\n",
      "│    │    │    └─Conv2d: 4-225           [8, 128, 14, 14]          110,592\n",
      "│    │    │    └─BatchNorm2d: 4-226      [8, 128, 14, 14]          256\n",
      "│    │    │    └─ReLU: 4-227             [8, 128, 14, 14]          --\n",
      "│    │    │    └─Conv2d: 4-228           [8, 32, 14, 14]           36,864\n",
      "│    │    └─_DenseLayer: 3-47            [8, 32, 14, 14]           --\n",
      "│    │    │    └─BatchNorm2d: 4-229      [8, 896, 14, 14]          1,792\n",
      "│    │    │    └─ReLU: 4-230             [8, 896, 14, 14]          --\n",
      "│    │    │    └─Conv2d: 4-231           [8, 128, 14, 14]          114,688\n",
      "│    │    │    └─BatchNorm2d: 4-232      [8, 128, 14, 14]          256\n",
      "│    │    │    └─ReLU: 4-233             [8, 128, 14, 14]          --\n",
      "│    │    │    └─Conv2d: 4-234           [8, 32, 14, 14]           36,864\n",
      "│    │    └─_DenseLayer: 3-48            [8, 32, 14, 14]           --\n",
      "│    │    │    └─BatchNorm2d: 4-235      [8, 928, 14, 14]          1,856\n",
      "│    │    │    └─ReLU: 4-236             [8, 928, 14, 14]          --\n",
      "│    │    │    └─Conv2d: 4-237           [8, 128, 14, 14]          118,784\n",
      "│    │    │    └─BatchNorm2d: 4-238      [8, 128, 14, 14]          256\n",
      "│    │    │    └─ReLU: 4-239             [8, 128, 14, 14]          --\n",
      "│    │    │    └─Conv2d: 4-240           [8, 32, 14, 14]           36,864\n",
      "│    │    └─_DenseLayer: 3-49            [8, 32, 14, 14]           --\n",
      "│    │    │    └─BatchNorm2d: 4-241      [8, 960, 14, 14]          1,920\n",
      "│    │    │    └─ReLU: 4-242             [8, 960, 14, 14]          --\n",
      "│    │    │    └─Conv2d: 4-243           [8, 128, 14, 14]          122,880\n",
      "│    │    │    └─BatchNorm2d: 4-244      [8, 128, 14, 14]          256\n",
      "│    │    │    └─ReLU: 4-245             [8, 128, 14, 14]          --\n",
      "│    │    │    └─Conv2d: 4-246           [8, 32, 14, 14]           36,864\n",
      "│    │    └─_DenseLayer: 3-50            [8, 32, 14, 14]           --\n",
      "│    │    │    └─BatchNorm2d: 4-247      [8, 992, 14, 14]          1,984\n",
      "│    │    │    └─ReLU: 4-248             [8, 992, 14, 14]          --\n",
      "│    │    │    └─Conv2d: 4-249           [8, 128, 14, 14]          126,976\n",
      "│    │    │    └─BatchNorm2d: 4-250      [8, 128, 14, 14]          256\n",
      "│    │    │    └─ReLU: 4-251             [8, 128, 14, 14]          --\n",
      "│    │    │    └─Conv2d: 4-252           [8, 32, 14, 14]           36,864\n",
      "│    └─_Transition: 2-10                 [8, 512, 7, 7]            --\n",
      "│    │    └─BatchNorm2d: 3-51            [8, 1024, 14, 14]         2,048\n",
      "│    │    └─ReLU: 3-52                   [8, 1024, 14, 14]         --\n",
      "│    │    └─Conv2d: 3-53                 [8, 512, 14, 14]          524,288\n",
      "│    │    └─AvgPool2d: 3-54              [8, 512, 7, 7]            --\n",
      "│    └─_DenseBlock: 2-11                 [8, 1024, 7, 7]           --\n",
      "│    │    └─_DenseLayer: 3-55            [8, 32, 7, 7]             --\n",
      "│    │    │    └─BatchNorm2d: 4-253      [8, 512, 7, 7]            1,024\n",
      "│    │    │    └─ReLU: 4-254             [8, 512, 7, 7]            --\n",
      "│    │    │    └─Conv2d: 4-255           [8, 128, 7, 7]            65,536\n",
      "│    │    │    └─BatchNorm2d: 4-256      [8, 128, 7, 7]            256\n",
      "│    │    │    └─ReLU: 4-257             [8, 128, 7, 7]            --\n",
      "│    │    │    └─Conv2d: 4-258           [8, 32, 7, 7]             36,864\n",
      "│    │    └─_DenseLayer: 3-56            [8, 32, 7, 7]             --\n",
      "│    │    │    └─BatchNorm2d: 4-259      [8, 544, 7, 7]            1,088\n",
      "│    │    │    └─ReLU: 4-260             [8, 544, 7, 7]            --\n",
      "│    │    │    └─Conv2d: 4-261           [8, 128, 7, 7]            69,632\n",
      "│    │    │    └─BatchNorm2d: 4-262      [8, 128, 7, 7]            256\n",
      "│    │    │    └─ReLU: 4-263             [8, 128, 7, 7]            --\n",
      "│    │    │    └─Conv2d: 4-264           [8, 32, 7, 7]             36,864\n",
      "│    │    └─_DenseLayer: 3-57            [8, 32, 7, 7]             --\n",
      "│    │    │    └─BatchNorm2d: 4-265      [8, 576, 7, 7]            1,152\n",
      "│    │    │    └─ReLU: 4-266             [8, 576, 7, 7]            --\n",
      "│    │    │    └─Conv2d: 4-267           [8, 128, 7, 7]            73,728\n",
      "│    │    │    └─BatchNorm2d: 4-268      [8, 128, 7, 7]            256\n",
      "│    │    │    └─ReLU: 4-269             [8, 128, 7, 7]            --\n",
      "│    │    │    └─Conv2d: 4-270           [8, 32, 7, 7]             36,864\n",
      "│    │    └─_DenseLayer: 3-58            [8, 32, 7, 7]             --\n",
      "│    │    │    └─BatchNorm2d: 4-271      [8, 608, 7, 7]            1,216\n",
      "│    │    │    └─ReLU: 4-272             [8, 608, 7, 7]            --\n",
      "│    │    │    └─Conv2d: 4-273           [8, 128, 7, 7]            77,824\n",
      "│    │    │    └─BatchNorm2d: 4-274      [8, 128, 7, 7]            256\n",
      "│    │    │    └─ReLU: 4-275             [8, 128, 7, 7]            --\n",
      "│    │    │    └─Conv2d: 4-276           [8, 32, 7, 7]             36,864\n",
      "│    │    └─_DenseLayer: 3-59            [8, 32, 7, 7]             --\n",
      "│    │    │    └─BatchNorm2d: 4-277      [8, 640, 7, 7]            1,280\n",
      "│    │    │    └─ReLU: 4-278             [8, 640, 7, 7]            --\n",
      "│    │    │    └─Conv2d: 4-279           [8, 128, 7, 7]            81,920\n",
      "│    │    │    └─BatchNorm2d: 4-280      [8, 128, 7, 7]            256\n",
      "│    │    │    └─ReLU: 4-281             [8, 128, 7, 7]            --\n",
      "│    │    │    └─Conv2d: 4-282           [8, 32, 7, 7]             36,864\n",
      "│    │    └─_DenseLayer: 3-60            [8, 32, 7, 7]             --\n",
      "│    │    │    └─BatchNorm2d: 4-283      [8, 672, 7, 7]            1,344\n",
      "│    │    │    └─ReLU: 4-284             [8, 672, 7, 7]            --\n",
      "│    │    │    └─Conv2d: 4-285           [8, 128, 7, 7]            86,016\n",
      "│    │    │    └─BatchNorm2d: 4-286      [8, 128, 7, 7]            256\n",
      "│    │    │    └─ReLU: 4-287             [8, 128, 7, 7]            --\n",
      "│    │    │    └─Conv2d: 4-288           [8, 32, 7, 7]             36,864\n",
      "│    │    └─_DenseLayer: 3-61            [8, 32, 7, 7]             --\n",
      "│    │    │    └─BatchNorm2d: 4-289      [8, 704, 7, 7]            1,408\n",
      "│    │    │    └─ReLU: 4-290             [8, 704, 7, 7]            --\n",
      "│    │    │    └─Conv2d: 4-291           [8, 128, 7, 7]            90,112\n",
      "│    │    │    └─BatchNorm2d: 4-292      [8, 128, 7, 7]            256\n",
      "│    │    │    └─ReLU: 4-293             [8, 128, 7, 7]            --\n",
      "│    │    │    └─Conv2d: 4-294           [8, 32, 7, 7]             36,864\n",
      "│    │    └─_DenseLayer: 3-62            [8, 32, 7, 7]             --\n",
      "│    │    │    └─BatchNorm2d: 4-295      [8, 736, 7, 7]            1,472\n",
      "│    │    │    └─ReLU: 4-296             [8, 736, 7, 7]            --\n",
      "│    │    │    └─Conv2d: 4-297           [8, 128, 7, 7]            94,208\n",
      "│    │    │    └─BatchNorm2d: 4-298      [8, 128, 7, 7]            256\n",
      "│    │    │    └─ReLU: 4-299             [8, 128, 7, 7]            --\n",
      "│    │    │    └─Conv2d: 4-300           [8, 32, 7, 7]             36,864\n",
      "│    │    └─_DenseLayer: 3-63            [8, 32, 7, 7]             --\n",
      "│    │    │    └─BatchNorm2d: 4-301      [8, 768, 7, 7]            1,536\n",
      "│    │    │    └─ReLU: 4-302             [8, 768, 7, 7]            --\n",
      "│    │    │    └─Conv2d: 4-303           [8, 128, 7, 7]            98,304\n",
      "│    │    │    └─BatchNorm2d: 4-304      [8, 128, 7, 7]            256\n",
      "│    │    │    └─ReLU: 4-305             [8, 128, 7, 7]            --\n",
      "│    │    │    └─Conv2d: 4-306           [8, 32, 7, 7]             36,864\n",
      "│    │    └─_DenseLayer: 3-64            [8, 32, 7, 7]             --\n",
      "│    │    │    └─BatchNorm2d: 4-307      [8, 800, 7, 7]            1,600\n",
      "│    │    │    └─ReLU: 4-308             [8, 800, 7, 7]            --\n",
      "│    │    │    └─Conv2d: 4-309           [8, 128, 7, 7]            102,400\n",
      "│    │    │    └─BatchNorm2d: 4-310      [8, 128, 7, 7]            256\n",
      "│    │    │    └─ReLU: 4-311             [8, 128, 7, 7]            --\n",
      "│    │    │    └─Conv2d: 4-312           [8, 32, 7, 7]             36,864\n",
      "│    │    └─_DenseLayer: 3-65            [8, 32, 7, 7]             --\n",
      "│    │    │    └─BatchNorm2d: 4-313      [8, 832, 7, 7]            1,664\n",
      "│    │    │    └─ReLU: 4-314             [8, 832, 7, 7]            --\n",
      "│    │    │    └─Conv2d: 4-315           [8, 128, 7, 7]            106,496\n",
      "│    │    │    └─BatchNorm2d: 4-316      [8, 128, 7, 7]            256\n",
      "│    │    │    └─ReLU: 4-317             [8, 128, 7, 7]            --\n",
      "│    │    │    └─Conv2d: 4-318           [8, 32, 7, 7]             36,864\n",
      "│    │    └─_DenseLayer: 3-66            [8, 32, 7, 7]             --\n",
      "│    │    │    └─BatchNorm2d: 4-319      [8, 864, 7, 7]            1,728\n",
      "│    │    │    └─ReLU: 4-320             [8, 864, 7, 7]            --\n",
      "│    │    │    └─Conv2d: 4-321           [8, 128, 7, 7]            110,592\n",
      "│    │    │    └─BatchNorm2d: 4-322      [8, 128, 7, 7]            256\n",
      "│    │    │    └─ReLU: 4-323             [8, 128, 7, 7]            --\n",
      "│    │    │    └─Conv2d: 4-324           [8, 32, 7, 7]             36,864\n",
      "│    │    └─_DenseLayer: 3-67            [8, 32, 7, 7]             --\n",
      "│    │    │    └─BatchNorm2d: 4-325      [8, 896, 7, 7]            1,792\n",
      "│    │    │    └─ReLU: 4-326             [8, 896, 7, 7]            --\n",
      "│    │    │    └─Conv2d: 4-327           [8, 128, 7, 7]            114,688\n",
      "│    │    │    └─BatchNorm2d: 4-328      [8, 128, 7, 7]            256\n",
      "│    │    │    └─ReLU: 4-329             [8, 128, 7, 7]            --\n",
      "│    │    │    └─Conv2d: 4-330           [8, 32, 7, 7]             36,864\n",
      "│    │    └─_DenseLayer: 3-68            [8, 32, 7, 7]             --\n",
      "│    │    │    └─BatchNorm2d: 4-331      [8, 928, 7, 7]            1,856\n",
      "│    │    │    └─ReLU: 4-332             [8, 928, 7, 7]            --\n",
      "│    │    │    └─Conv2d: 4-333           [8, 128, 7, 7]            118,784\n",
      "│    │    │    └─BatchNorm2d: 4-334      [8, 128, 7, 7]            256\n",
      "│    │    │    └─ReLU: 4-335             [8, 128, 7, 7]            --\n",
      "│    │    │    └─Conv2d: 4-336           [8, 32, 7, 7]             36,864\n",
      "│    │    └─_DenseLayer: 3-69            [8, 32, 7, 7]             --\n",
      "│    │    │    └─BatchNorm2d: 4-337      [8, 960, 7, 7]            1,920\n",
      "│    │    │    └─ReLU: 4-338             [8, 960, 7, 7]            --\n",
      "│    │    │    └─Conv2d: 4-339           [8, 128, 7, 7]            122,880\n",
      "│    │    │    └─BatchNorm2d: 4-340      [8, 128, 7, 7]            256\n",
      "│    │    │    └─ReLU: 4-341             [8, 128, 7, 7]            --\n",
      "│    │    │    └─Conv2d: 4-342           [8, 32, 7, 7]             36,864\n",
      "│    │    └─_DenseLayer: 3-70            [8, 32, 7, 7]             --\n",
      "│    │    │    └─BatchNorm2d: 4-343      [8, 992, 7, 7]            1,984\n",
      "│    │    │    └─ReLU: 4-344             [8, 992, 7, 7]            --\n",
      "│    │    │    └─Conv2d: 4-345           [8, 128, 7, 7]            126,976\n",
      "│    │    │    └─BatchNorm2d: 4-346      [8, 128, 7, 7]            256\n",
      "│    │    │    └─ReLU: 4-347             [8, 128, 7, 7]            --\n",
      "│    │    │    └─Conv2d: 4-348           [8, 32, 7, 7]             36,864\n",
      "│    └─BatchNorm2d: 2-12                 [8, 1024, 7, 7]           2,048\n",
      "├─Sequential: 1-2                        [8, 9]                    --\n",
      "│    └─Flatten: 2-13                     [8, 1024]                 --\n",
      "│    └─Dropout: 2-14                     [8, 1024]                 --\n",
      "│    └─Linear: 2-15                      [8, 512]                  524,800\n",
      "│    └─ReLU: 2-16                        [8, 512]                  --\n",
      "│    └─Linear: 2-17                      [8, 9]                    4,617\n",
      "│    └─Softmax: 2-18                     [8, 9]                    --\n",
      "==========================================================================================\n",
      "Total params: 7,483,273\n",
      "Trainable params: 7,483,273\n",
      "Non-trainable params: 0\n",
      "Total mult-adds (Units.GIGABYTES): 22.67\n",
      "==========================================================================================\n",
      "Input size (MB): 4.82\n",
      "Forward/backward pass size (MB): 1444.30\n",
      "Params size (MB): 29.93\n",
      "Estimated Total Size (MB): 1479.05\n",
      "==========================================================================================\n"
     ]
    }
   ],
   "source": [
    "from torchinfo import summary\n",
    "print(summary(model, (batch_size, 3, 224, 224), verbose=2))"
   ]
  },
  {
   "cell_type": "markdown",
   "id": "c027cba37344acf9",
   "metadata": {},
   "source": [
    "### Training Epochs"
   ]
  },
  {
   "cell_type": "code",
   "execution_count": null,
   "id": "c3520fd42aeea885",
   "metadata": {
    "ExecuteTime": {
     "end_time": "2025-04-21T12:11:52.251397Z",
     "start_time": "2025-04-21T11:48:34.690910Z"
    }
   },
   "outputs": [],
   "source": [
    "torch.set_num_threads(1)  # Set number of threads to 1 for reproducibility\n",
    "for epoch in range(epochs):\n",
    "    # Training phase\n",
    "    model.train()\n",
    "    running_loss = 0.0\n",
    "    correct_train = 0\n",
    "    total_train = 0\n",
    "\n",
    "    # Training loop with progress bar\n",
    "    train_bar = tqdm(train_loader, desc=f\"Epoch {epoch + 1}/{epochs} [Train]\", leave=False)\n",
    "    for images, labels in train_bar:\n",
    "        images, labels = images.to(device), labels.to(device)\n",
    "\n",
    "        # Forward pass\n",
    "        outputs = model(images)\n",
    "        loss = loss_function(outputs, labels)\n",
    "\n",
    "        # Backward pass and optimize\n",
    "        optimizer.zero_grad()\n",
    "        loss.backward()\n",
    "        optimizer.step()\n",
    "\n",
    "        # Calculate statistics\n",
    "        running_loss += loss.item() * images.size(0)\n",
    "        _, predicted = torch.max(outputs.data, 1)\n",
    "        total_train += labels.size(0)\n",
    "        correct_train += (predicted == labels).sum().item()\n",
    "\n",
    "        # Update progress bar\n",
    "        train_bar.set_postfix({\n",
    "            'loss': f\"{running_loss / total_train:.4f}\",\n",
    "            'acc': f\"{100. * correct_train / total_train:.2f}%\"\n",
    "        })\n",
    "\n",
    "    # Calculate training statistics\n",
    "    train_loss = running_loss / total_train\n",
    "    train_acc = 100. * correct_train / total_train\n",
    "\n",
    "    # Validation phase\n",
    "    model.eval()\n",
    "    val_loss = 0.0\n",
    "    correct_val = 0\n",
    "    total_val = 0\n",
    "\n",
    "    with torch.no_grad():\n",
    "        val_bar = tqdm(test_loader, desc=f\"Epoch {epoch + 1}/{epochs} [Val]\", leave=False)\n",
    "        for images, labels in val_bar:\n",
    "            images, labels = images.to(device), labels.to(device)\n",
    "            outputs = model(images)\n",
    "            loss = loss_function(outputs, labels)\n",
    "\n",
    "            val_loss += loss.item() * images.size(0)\n",
    "            _, predicted = torch.max(outputs.data, 1)\n",
    "            total_val += labels.size(0)\n",
    "            correct_val += (predicted == labels).sum().item()\n",
    "\n",
    "            val_bar.set_postfix({\n",
    "                'loss': f\"{val_loss / total_val:.4f}\",\n",
    "                'acc': f\"{100. * correct_val / total_val:.2f}%\"\n",
    "            })\n",
    "\n",
    "    # Calculate validation statistics\n",
    "    val_loss /= total_val\n",
    "    val_acc = 100. * correct_val / total_val\n",
    "\n",
    "    scheduler.step()\n",
    "\n",
    "    # Print epoch summary\n",
    "    print(f\"\\nEpoch {epoch + 1}/{epochs} - \"\n",
    "          f\"Train Loss: {train_loss:.4f}, Train Acc: {train_acc:.2f}% | \"\n",
    "          f\"Val Loss: {val_loss:.4f}, Val Acc: {val_acc:.2f}%\")"
   ]
  },
  {
   "cell_type": "markdown",
   "id": "c7f05590085d19fe",
   "metadata": {},
   "source": [
    "### Training log and data export"
   ]
  },
  {
   "cell_type": "code",
   "execution_count": null,
   "id": "88cbef08ee604230",
   "metadata": {
    "ExecuteTime": {
     "end_time": "2025-04-21T12:11:52.411762Z",
     "start_time": "2025-04-21T12:11:52.409200Z"
    }
   },
   "outputs": [],
   "source": [
    "# Code here\n",
    "# iteration 2 template 2"
   ]
  }
 ],
 "metadata": {
  "kernelspec": {
   "display_name": "csc671wsl",
   "language": "python",
   "name": "python3"
  },
  "language_info": {
   "codemirror_mode": {
    "name": "ipython",
    "version": 3
   },
   "file_extension": ".py",
   "mimetype": "text/x-python",
   "name": "python",
   "nbconvert_exporter": "python",
   "pygments_lexer": "ipython3",
   "version": "3.12.9"
  }
 },
 "nbformat": 4,
 "nbformat_minor": 5
}
