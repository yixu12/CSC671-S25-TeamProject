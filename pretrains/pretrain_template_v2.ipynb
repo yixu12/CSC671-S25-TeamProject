{
 "cells": [
  {
   "cell_type": "markdown",
   "id": "e212769df2c79163",
   "metadata": {},
   "source": [
    "# Test with pretrained models"
   ]
  },
  {
   "cell_type": "code",
   "execution_count": 1,
   "id": "4fa5d0748a13767e",
   "metadata": {
    "ExecuteTime": {
     "end_time": "2025-04-21T11:48:34.142931Z",
     "start_time": "2025-04-21T11:48:31.294135Z"
    }
   },
   "outputs": [],
   "source": [
    "import torch\n",
    "import torch.nn as nn\n",
    "import torch.optim as optim\n",
    "from torchvision import datasets, transforms\n",
    "from torch.nn.utils import clip_grad_norm_\n",
    "import torch.nn.init as init\n",
    "from sklearn.utils.class_weight import compute_class_weight\n",
    "import random\n",
    "import numpy as np\n",
    "import os\n",
    "import cpuinfo\n",
    "from tqdm import tqdm\n",
    "from torchinfo import summary\n",
    "from PIL import Image"
   ]
  },
  {
   "cell_type": "code",
   "execution_count": 2,
   "id": "a18de51f",
   "metadata": {},
   "outputs": [],
   "source": [
    "# Control randomness\n",
    "seed = 42\n",
    "random.seed(seed)\n",
    "np.random.seed(seed)\n",
    "torch.manual_seed(seed)\n",
    "torch.cuda.manual_seed(seed)\n",
    "torch.cuda.manual_seed_all(seed)\n",
    "torch.backends.cudnn.deterministic = True\n",
    "torch.backends.cudnn.benchmark = False"
   ]
  },
  {
   "cell_type": "markdown",
   "id": "460da8d92d8804f",
   "metadata": {},
   "source": [
    "### File paths"
   ]
  },
  {
   "cell_type": "code",
   "execution_count": 3,
   "id": "7143543ffa0b1711",
   "metadata": {
    "ExecuteTime": {
     "end_time": "2025-04-21T11:48:34.284882Z",
     "start_time": "2025-04-21T11:48:34.282781Z"
    }
   },
   "outputs": [],
   "source": [
    "train_path = \"../data/Train\"        # paths for your training and testing dataset\n",
    "#train_path = \"../data/aug_train\"    \n",
    "test_path = \"../data/Test\"          # using test dataset as validation too\n",
    "input_parameter = \"\"                # paths for import and export custom model trainable parameters\n",
    "output_parameter = \"\""
   ]
  },
  {
   "cell_type": "markdown",
   "id": "61231f85",
   "metadata": {},
   "source": [
    "### Device of use"
   ]
  },
  {
   "cell_type": "code",
   "execution_count": 25,
   "id": "08a1c831",
   "metadata": {},
   "outputs": [
    {
     "name": "stdout",
     "output_type": "stream",
     "text": [
      "CPU count: 16\n",
      "Using device: cuda\n"
     ]
    }
   ],
   "source": [
    "device = torch.device(\"cuda\" if torch.cuda.is_available() else \"cpu\")\n",
    "#device = \"cpu\"\n",
    "device_name = \"\"\n",
    "\n",
    "print(f\"CPU count: {os.cpu_count()}\")\n",
    "num_workers = min(4, os.cpu_count() // 2)  # Dynamically set num_workers\n",
    "print(f\"Using device: {device}\")"
   ]
  },
  {
   "cell_type": "markdown",
   "id": "f21140ca",
   "metadata": {},
   "source": [
    "### Pretrain Model of use from torchvision"
   ]
  },
  {
   "cell_type": "code",
   "execution_count": 5,
   "id": "9a34a8a8d04cb802",
   "metadata": {
    "ExecuteTime": {
     "end_time": "2025-04-21T11:48:34.447142Z",
     "start_time": "2025-04-21T11:48:34.298297Z"
    }
   },
   "outputs": [
    {
     "name": "stdout",
     "output_type": "stream",
     "text": [
      "Using model EfficientNet\n"
     ]
    }
   ],
   "source": [
    "from torchvision.models import efficientnet_v2_s\n",
    "model = efficientnet_v2_s(weights='DEFAULT')\n",
    "img_size = 384 # adjust input image size for model\n",
    "print(f\"Using model {type(model).__name__}\")\n",
    "\n",
    "epochs = 120\n",
    "batch_size = 16 # adjust to your memory\n",
    "optimizer = optim.AdamW(\n",
    "    model.parameters(),\n",
    "    lr=3e-4,            # learning rate\n",
    "    weight_decay=1e-3,  # L2 regularization\n",
    "    betas=(0.9, 0.999), # Adam beta parameters\n",
    "    )\n",
    "grad_clip = 2.0         # gradient clipping value\n",
    "scheduler = torch.optim.lr_scheduler.ReduceLROnPlateau(\n",
    "    optimizer,\n",
    "    mode='min',\n",
    "    factor=0.5,\n",
    "    patience=1,\n",
    "    min_lr=1e-10,\n",
    "    cooldown=0\n",
    "    )\n",
    "# scheduler = torch.optim.lr_scheduler.CosineAnnealingWarmRestarts(\n",
    "#     optimizer,\n",
    "#     T_0=10,            # number of iterations for the first restart\n",
    "#     T_mult=2,          # increase T_0 after each restart\n",
    "#     eta_min=1e-10,      # minimum learning rate\n",
    "#     )\n",
    "# loss_function = nn.CrossEntropyLoss() defined in Weighed Cross Entropy Loss cell"
   ]
  },
  {
   "cell_type": "markdown",
   "id": "4332cc4f55b5e4bf",
   "metadata": {},
   "source": [
    "### Data transform/normalization and loader"
   ]
  },
  {
   "cell_type": "code",
   "execution_count": 26,
   "id": "2e0a404b216b26a8",
   "metadata": {
    "ExecuteTime": {
     "end_time": "2025-04-21T11:48:34.517225Z",
     "start_time": "2025-04-21T11:48:34.493177Z"
    }
   },
   "outputs": [],
   "source": [
    "transform_train = transforms.Compose([\n",
    "    transforms.Resize(450),\n",
    "\n",
    "    transforms.Pad(padding=150, padding_mode='edge'),\n",
    "    transforms.RandomAffine(degrees=0, translate=(0.05, 0.05)),\n",
    "    transforms.RandomRotation(45, expand=False, fill=0),\n",
    "\n",
    "    transforms.CenterCrop(450),\n",
    "    transforms.RandomResizedCrop(img_size, scale=(0.8, 1.0)),\n",
    "    transforms.RandomHorizontalFlip(),\n",
    "    transforms.RandomVerticalFlip(),\n",
    "    transforms.ColorJitter(brightness=0.2, contrast=0.2, saturation=0.1),\n",
    "    \n",
    "    transforms.ToTensor(),\n",
    "    transforms.Normalize([0.485,0.456,0.406],[0.229,0.224,0.225]),\n",
    "    transforms.RandomErasing(p=0.75, scale=(0.02, 0.1), ratio=(0.1, 10), value='random', inplace=False),\n",
    "])\n",
    "\n",
    "transform_test = transforms.Compose([   # on test dataset\n",
    "    transforms.Resize(img_size),\n",
    "    transforms.CenterCrop((img_size, img_size)),\n",
    "    transforms.ToTensor(),\n",
    "    transforms.Normalize(mean=[0.485, 0.456, 0.406], std=[0.229, 0.224, 0.225]),\n",
    "    ])"
   ]
  },
  {
   "cell_type": "code",
   "execution_count": 7,
   "id": "6b8a80bf",
   "metadata": {},
   "outputs": [
    {
     "name": "stderr",
     "output_type": "stream",
     "text": [
      "                                                                                             "
     ]
    },
    {
     "name": "stdout",
     "output_type": "stream",
     "text": [
      "Total Classes: 9\n",
      "Class counts: [114, 376, 95, 438, 357, 462, 77, 181, 139]\n",
      "Classes: ['actinic keratosis', 'basal cell carcinoma', 'dermatofibroma', 'melanoma', 'nevus', 'pigmented benign keratosis', 'seborrheic keratosis', 'squamous cell carcinoma', 'vascular lesion']\n"
     ]
    },
    {
     "name": "stderr",
     "output_type": "stream",
     "text": [
      "\r"
     ]
    }
   ],
   "source": [
    "train_dataset = datasets.ImageFolder(root=train_path, transform=tr)\n",
    "test_dataset = datasets.ImageFolder(root=test_path, transform=transform_test)\n",
    "\n",
    "train_loader = torch.utils.data.DataLoader(train_dataset, batch_size=batch_size, shuffle=True, num_workers=num_workers)\n",
    "test_loader = torch.utils.data.DataLoader(test_dataset, batch_size=batch_size, shuffle=False, num_workers=num_workers)\n",
    "\n",
    "val_data = [\n",
    "    (images.to(device), labels.to(device))\n",
    "    for images, labels in tqdm(test_loader, desc=f\"Preloading Val Data to {device_name}\", leave=False)\n",
    "]\n",
    "\n",
    "class_counts = [0] * len(train_dataset.classes)\n",
    "for _, label in train_dataset.samples:\n",
    "    class_counts[label] += 1\n",
    "\n",
    "print(f\"Total Classes: {len(train_dataset.classes)}\")\n",
    "print(f\"Class counts: {class_counts}\")\n",
    "print(f\"Classes: {train_dataset.classes}\")"
   ]
  },
  {
   "cell_type": "markdown",
   "id": "5f1ea264",
   "metadata": {},
   "source": [
    "### Weighted Cross Entropy Loss"
   ]
  },
  {
   "cell_type": "code",
   "execution_count": 8,
   "id": "c0848f05",
   "metadata": {},
   "outputs": [
    {
     "name": "stdout",
     "output_type": "stream",
     "text": [
      "Class weights: tensor([2.1823, 0.6616, 2.6187, 0.5680, 0.6969, 0.5385, 3.2309, 1.3745, 1.7898],\n",
      "       device='cuda:0')\n"
     ]
    }
   ],
   "source": [
    "class_weights = compute_class_weight(\n",
    "    'balanced',\n",
    "    classes=np.arange(len(train_dataset.classes)),\n",
    "    y=[label for _, label in train_dataset.samples]\n",
    ")\n",
    "\n",
    "class_weights = torch.tensor(class_weights, dtype=torch.float32).to(device)\n",
    "loss_function = nn.CrossEntropyLoss(weight=class_weights, label_smoothing=0.1)\n",
    "\n",
    "print(f\"Class weights: {class_weights}\")"
   ]
  },
  {
   "cell_type": "markdown",
   "id": "75b9adc1",
   "metadata": {},
   "source": [
    "### Model Classifier layer"
   ]
  },
  {
   "cell_type": "code",
   "execution_count": 9,
   "id": "83c2871148fc4fc3",
   "metadata": {
    "ExecuteTime": {
     "end_time": "2025-04-21T11:48:34.524281Z",
     "start_time": "2025-04-21T11:48:34.521216Z"
    }
   },
   "outputs": [
    {
     "name": "stdout",
     "output_type": "stream",
     "text": [
      "Classifier - Input features: 1280, Output classes: 9\n"
     ]
    }
   ],
   "source": [
    "# Edit the output layer of the model\n",
    "num_classes = len(train_dataset.classes)\n",
    "num_features = model.classifier[1].in_features\n",
    "model.classifier = nn.Sequential(\n",
    "    nn.Dropout(0.5),\n",
    "    nn.Linear(1280, 512),\n",
    "    nn.BatchNorm1d(512),\n",
    "    nn.ReLU(),\n",
    "    nn.Dropout(0.3),\n",
    "    nn.Linear(512, num_classes)\n",
    ")\n",
    "\n",
    "# Initialize weights and biases for classifier[1]\n",
    "# init.kaiming_normal_(model.classifier[1].weight, mode='fan_in', nonlinearity='relu')\n",
    "# model.classifier[1].bias.data.fill_(0.0)\n",
    "\n",
    "print(f\"Classifier - Input features: {num_features}, Output classes: {num_classes}\")"
   ]
  },
  {
   "cell_type": "markdown",
   "id": "d1795a45e3c08a75",
   "metadata": {},
   "source": [
    "### Configure model parameters"
   ]
  },
  {
   "cell_type": "code",
   "execution_count": 10,
   "id": "dda5db7349fc7d89",
   "metadata": {
    "ExecuteTime": {
     "end_time": "2025-04-21T11:48:34.565876Z",
     "start_time": "2025-04-21T11:48:34.563196Z"
    }
   },
   "outputs": [],
   "source": [
    "# IF NEEDED\n",
    "# Load custom weight and optimizer states\n",
    "# if os.path.exists(input_parameter):\n",
    "#     checkpoint = torch.load(\"test_weights.pth\", map_location=device)\n",
    "#     model.load_state_dict(checkpoint['model_state_dict'])\n",
    "#     optimizer.load_state_dict(checkpoint['optimizer_state_dict'])"
   ]
  },
  {
   "cell_type": "code",
   "execution_count": 11,
   "id": "ded31e95efe3a765",
   "metadata": {
    "ExecuteTime": {
     "end_time": "2025-04-21T11:48:34.588042Z",
     "start_time": "2025-04-21T11:48:34.585548Z"
    }
   },
   "outputs": [],
   "source": [
    "# # Selective layer freezing\n",
    "# # change base on your model\n",
    "# # \"Early layers are often already well-optimized\" by GPT-4o\n",
    "# for _, param in model.named_parameters():\n",
    "#     param.requires_grad = True          # Unfreeze all layers first\n",
    "# for name, param in model.named_parameters():\n",
    "#     if \"classifier\" not in name:\n",
    "#         param.requires_grad = False     # Freeze everything except the last classifier layer"
   ]
  },
  {
   "cell_type": "code",
   "execution_count": 12,
   "id": "3247b01c5c37b276",
   "metadata": {
    "ExecuteTime": {
     "end_time": "2025-04-21T11:48:34.687917Z",
     "start_time": "2025-04-21T11:48:34.598546Z"
    }
   },
   "outputs": [
    {
     "name": "stdout",
     "output_type": "stream",
     "text": [
      "Model is on cuda:0\n"
     ]
    }
   ],
   "source": [
    "# Move model to device\n",
    "model.to(device)\n",
    "print(f\"Model is on {next(model.parameters()).device}\")"
   ]
  },
  {
   "cell_type": "code",
   "execution_count": 13,
   "id": "69e6c43f",
   "metadata": {},
   "outputs": [
    {
     "name": "stdout",
     "output_type": "stream",
     "text": [
      "=========================================================================================================\n",
      "Layer (type:depth-idx)                                  Output Shape              Param #\n",
      "=========================================================================================================\n",
      "EfficientNet                                            [16, 9]                   --\n",
      "├─Sequential: 1-1                                       [16, 1280, 12, 12]        --\n",
      "│    └─Conv2dNormActivation: 2-1                        [16, 24, 192, 192]        --\n",
      "│    │    └─Conv2d: 3-1                                 [16, 24, 192, 192]        648\n",
      "│    │    └─BatchNorm2d: 3-2                            [16, 24, 192, 192]        48\n",
      "│    │    └─SiLU: 3-3                                   [16, 24, 192, 192]        --\n",
      "│    └─Sequential: 2-2                                  [16, 24, 192, 192]        --\n",
      "│    │    └─FusedMBConv: 3-4                            [16, 24, 192, 192]        5,232\n",
      "│    │    └─FusedMBConv: 3-5                            [16, 24, 192, 192]        5,232\n",
      "│    └─Sequential: 2-3                                  [16, 48, 96, 96]          --\n",
      "│    │    └─FusedMBConv: 3-6                            [16, 48, 96, 96]          25,632\n",
      "│    │    └─FusedMBConv: 3-7                            [16, 48, 96, 96]          92,640\n",
      "│    │    └─FusedMBConv: 3-8                            [16, 48, 96, 96]          92,640\n",
      "│    │    └─FusedMBConv: 3-9                            [16, 48, 96, 96]          92,640\n",
      "│    └─Sequential: 2-4                                  [16, 64, 48, 48]          --\n",
      "│    │    └─FusedMBConv: 3-10                           [16, 64, 48, 48]          95,744\n",
      "│    │    └─FusedMBConv: 3-11                           [16, 64, 48, 48]          164,480\n",
      "│    │    └─FusedMBConv: 3-12                           [16, 64, 48, 48]          164,480\n",
      "│    │    └─FusedMBConv: 3-13                           [16, 64, 48, 48]          164,480\n",
      "│    └─Sequential: 2-5                                  [16, 128, 24, 24]         --\n",
      "│    │    └─MBConv: 3-14                                [16, 128, 24, 24]         61,200\n",
      "│    │    └─MBConv: 3-15                                [16, 128, 24, 24]         171,296\n",
      "│    │    └─MBConv: 3-16                                [16, 128, 24, 24]         171,296\n",
      "│    │    └─MBConv: 3-17                                [16, 128, 24, 24]         171,296\n",
      "│    │    └─MBConv: 3-18                                [16, 128, 24, 24]         171,296\n",
      "│    │    └─MBConv: 3-19                                [16, 128, 24, 24]         171,296\n",
      "│    └─Sequential: 2-6                                  [16, 160, 24, 24]         --\n",
      "│    │    └─MBConv: 3-20                                [16, 160, 24, 24]         281,440\n",
      "│    │    └─MBConv: 3-21                                [16, 160, 24, 24]         397,800\n",
      "│    │    └─MBConv: 3-22                                [16, 160, 24, 24]         397,800\n",
      "│    │    └─MBConv: 3-23                                [16, 160, 24, 24]         397,800\n",
      "│    │    └─MBConv: 3-24                                [16, 160, 24, 24]         397,800\n",
      "│    │    └─MBConv: 3-25                                [16, 160, 24, 24]         397,800\n",
      "│    │    └─MBConv: 3-26                                [16, 160, 24, 24]         397,800\n",
      "│    │    └─MBConv: 3-27                                [16, 160, 24, 24]         397,800\n",
      "│    │    └─MBConv: 3-28                                [16, 160, 24, 24]         397,800\n",
      "│    └─Sequential: 2-7                                  [16, 256, 12, 12]         --\n",
      "│    │    └─MBConv: 3-29                                [16, 256, 12, 12]         490,152\n",
      "│    │    └─MBConv: 3-30                                [16, 256, 12, 12]         1,005,120\n",
      "│    │    └─MBConv: 3-31                                [16, 256, 12, 12]         1,005,120\n",
      "│    │    └─MBConv: 3-32                                [16, 256, 12, 12]         1,005,120\n",
      "│    │    └─MBConv: 3-33                                [16, 256, 12, 12]         1,005,120\n",
      "│    │    └─MBConv: 3-34                                [16, 256, 12, 12]         1,005,120\n",
      "│    │    └─MBConv: 3-35                                [16, 256, 12, 12]         1,005,120\n",
      "│    │    └─MBConv: 3-36                                [16, 256, 12, 12]         1,005,120\n",
      "│    │    └─MBConv: 3-37                                [16, 256, 12, 12]         1,005,120\n",
      "│    │    └─MBConv: 3-38                                [16, 256, 12, 12]         1,005,120\n",
      "│    │    └─MBConv: 3-39                                [16, 256, 12, 12]         1,005,120\n",
      "│    │    └─MBConv: 3-40                                [16, 256, 12, 12]         1,005,120\n",
      "│    │    └─MBConv: 3-41                                [16, 256, 12, 12]         1,005,120\n",
      "│    │    └─MBConv: 3-42                                [16, 256, 12, 12]         1,005,120\n",
      "│    │    └─MBConv: 3-43                                [16, 256, 12, 12]         1,005,120\n",
      "│    └─Conv2dNormActivation: 2-8                        [16, 1280, 12, 12]        --\n",
      "│    │    └─Conv2d: 3-44                                [16, 1280, 12, 12]        327,680\n",
      "│    │    └─BatchNorm2d: 3-45                           [16, 1280, 12, 12]        2,560\n",
      "│    │    └─SiLU: 3-46                                  [16, 1280, 12, 12]        --\n",
      "├─AdaptiveAvgPool2d: 1-2                                [16, 1280, 1, 1]          --\n",
      "├─Sequential: 1-3                                       [16, 9]                   --\n",
      "│    └─Dropout: 2-9                                     [16, 1280]                --\n",
      "│    └─Linear: 2-10                                     [16, 512]                 655,872\n",
      "│    └─BatchNorm1d: 2-11                                [16, 512]                 1,024\n",
      "│    └─ReLU: 2-12                                       [16, 512]                 --\n",
      "│    └─Dropout: 2-13                                    [16, 512]                 --\n",
      "│    └─Linear: 2-14                                     [16, 9]                   4,617\n",
      "=========================================================================================================\n",
      "Total params: 20,839,001\n",
      "Trainable params: 20,839,001\n",
      "Non-trainable params: 0\n",
      "Total mult-adds (Units.GIGABYTES): 133.84\n",
      "=========================================================================================================\n",
      "Input size (MB): 28.31\n",
      "Forward/backward pass size (MB): 9151.63\n",
      "Params size (MB): 83.36\n",
      "Estimated Total Size (MB): 9263.30\n",
      "=========================================================================================================\n"
     ]
    }
   ],
   "source": [
    "# Print model architecture\n",
    "print(summary(model, (batch_size, 3, img_size, img_size)))"
   ]
  },
  {
   "cell_type": "code",
   "execution_count": 14,
   "id": "22466871",
   "metadata": {},
   "outputs": [],
   "source": [
    "# # DEBUG\n",
    "# print(f\"Model device: {next(model.parameters()).device}\")\n",
    "# for images, labels in train_data:\n",
    "#     print(f\"Input device: {images.device}\")\n",
    "#     break\n",
    "# print(f\"Device: {device}\")"
   ]
  },
  {
   "cell_type": "markdown",
   "id": "c027cba37344acf9",
   "metadata": {},
   "source": [
    "## Training Epochs"
   ]
  },
  {
   "cell_type": "code",
   "execution_count": 15,
   "id": "c3520fd42aeea885",
   "metadata": {
    "ExecuteTime": {
     "end_time": "2025-04-21T12:11:52.251397Z",
     "start_time": "2025-04-21T11:48:34.690910Z"
    }
   },
   "outputs": [
    {
     "name": "stdout",
     "output_type": "stream",
     "text": [
      "CPU times: total: 0 ns\n",
      "Wall time: 0 ns\n"
     ]
    },
    {
     "name": "stderr",
     "output_type": "stream",
     "text": [
      "                                                                                               \r"
     ]
    },
    {
     "name": "stdout",
     "output_type": "stream",
     "text": [
      "Epoch 1/120 - Learning Rate: 0.0003000000 | Train Loss: 1.9296, Train Acc: 35.82% | Val Loss: 1.7700, Val Acc: 54.24%\n"
     ]
    },
    {
     "name": "stderr",
     "output_type": "stream",
     "text": [
      "                                                                                               \r"
     ]
    },
    {
     "name": "stdout",
     "output_type": "stream",
     "text": [
      "Epoch 2/120 - Learning Rate: 0.0003000000 | Train Loss: 1.6000, Train Acc: 54.22% | Val Loss: 1.7933, Val Acc: 48.31%\n"
     ]
    },
    {
     "name": "stderr",
     "output_type": "stream",
     "text": [
      "                                                                                               \r"
     ]
    },
    {
     "name": "stdout",
     "output_type": "stream",
     "text": [
      "Epoch 3/120 - Learning Rate: 0.0003000000 | Train Loss: 1.4853, Train Acc: 60.56% | Val Loss: 1.6201, Val Acc: 57.63%\n"
     ]
    },
    {
     "name": "stderr",
     "output_type": "stream",
     "text": [
      "                                                                                               \r"
     ]
    },
    {
     "name": "stdout",
     "output_type": "stream",
     "text": [
      "Epoch 4/120 - Learning Rate: 0.0003000000 | Train Loss: 1.4070, Train Acc: 64.18% | Val Loss: 1.6697, Val Acc: 61.02%\n"
     ]
    },
    {
     "name": "stderr",
     "output_type": "stream",
     "text": [
      "                                                                                               \r"
     ]
    },
    {
     "name": "stdout",
     "output_type": "stream",
     "text": [
      "Epoch 5/120 - Learning Rate: 0.0003000000 | Train Loss: 1.3394, Train Acc: 68.24% | Val Loss: 1.6621, Val Acc: 63.56%\n"
     ]
    },
    {
     "name": "stderr",
     "output_type": "stream",
     "text": [
      "                                                                                               \r"
     ]
    },
    {
     "name": "stdout",
     "output_type": "stream",
     "text": [
      "Epoch 6/120 - Learning Rate: 0.0001500000 | Train Loss: 1.2438, Train Acc: 71.73% | Val Loss: 1.5789, Val Acc: 66.10%\n"
     ]
    },
    {
     "name": "stderr",
     "output_type": "stream",
     "text": [
      "                                                                                               \r"
     ]
    },
    {
     "name": "stdout",
     "output_type": "stream",
     "text": [
      "Epoch 7/120 - Learning Rate: 0.0001500000 | Train Loss: 1.1784, Train Acc: 76.28% | Val Loss: 1.6431, Val Acc: 65.25%\n"
     ]
    },
    {
     "name": "stderr",
     "output_type": "stream",
     "text": [
      "                                                                                               \r"
     ]
    },
    {
     "name": "stdout",
     "output_type": "stream",
     "text": [
      "Epoch 8/120 - Learning Rate: 0.0001500000 | Train Loss: 1.1327, Train Acc: 77.09% | Val Loss: 1.5793, Val Acc: 69.49%\n"
     ]
    },
    {
     "name": "stderr",
     "output_type": "stream",
     "text": [
      "                                                                                               \r"
     ]
    },
    {
     "name": "stdout",
     "output_type": "stream",
     "text": [
      "Epoch 9/120 - Learning Rate: 0.0000750000 | Train Loss: 1.0911, Train Acc: 78.25% | Val Loss: 1.5317, Val Acc: 68.64%\n"
     ]
    },
    {
     "name": "stderr",
     "output_type": "stream",
     "text": [
      "                                                                                                \r"
     ]
    },
    {
     "name": "stdout",
     "output_type": "stream",
     "text": [
      "Epoch 10/120 - Learning Rate: 0.0000750000 | Train Loss: 1.0576, Train Acc: 81.29% | Val Loss: 1.5428, Val Acc: 68.64%\n"
     ]
    },
    {
     "name": "stderr",
     "output_type": "stream",
     "text": [
      "                                                                                                \r"
     ]
    },
    {
     "name": "stdout",
     "output_type": "stream",
     "text": [
      "Epoch 11/120 - Learning Rate: 0.0000750000 | Train Loss: 1.0379, Train Acc: 81.02% | Val Loss: 1.5644, Val Acc: 68.64%\n"
     ]
    },
    {
     "name": "stderr",
     "output_type": "stream",
     "text": [
      "                                                                                                \r"
     ]
    },
    {
     "name": "stdout",
     "output_type": "stream",
     "text": [
      "Epoch 12/120 - Learning Rate: 0.0000375000 | Train Loss: 1.0194, Train Acc: 82.09% | Val Loss: 1.5551, Val Acc: 71.19%\n"
     ]
    },
    {
     "name": "stderr",
     "output_type": "stream",
     "text": [
      "                                                                                                \r"
     ]
    },
    {
     "name": "stdout",
     "output_type": "stream",
     "text": [
      "Epoch 13/120 - Learning Rate: 0.0000375000 | Train Loss: 1.0056, Train Acc: 82.98% | Val Loss: 1.4659, Val Acc: 73.73%\n"
     ]
    },
    {
     "name": "stderr",
     "output_type": "stream",
     "text": [
      "                                                                                                \r"
     ]
    },
    {
     "name": "stdout",
     "output_type": "stream",
     "text": [
      "Epoch 14/120 - Learning Rate: 0.0000375000 | Train Loss: 1.0083, Train Acc: 83.03% | Val Loss: 1.5019, Val Acc: 73.73%\n"
     ]
    },
    {
     "name": "stderr",
     "output_type": "stream",
     "text": [
      "                                                                                                \r"
     ]
    },
    {
     "name": "stdout",
     "output_type": "stream",
     "text": [
      "Epoch 15/120 - Learning Rate: 0.0000375000 | Train Loss: 0.9786, Train Acc: 85.17% | Val Loss: 1.6140, Val Acc: 68.64%\n"
     ]
    },
    {
     "name": "stderr",
     "output_type": "stream",
     "text": [
      "                                                                                                \r"
     ]
    },
    {
     "name": "stdout",
     "output_type": "stream",
     "text": [
      "Epoch 16/120 - Learning Rate: 0.0000187500 | Train Loss: 0.9599, Train Acc: 86.56% | Val Loss: 1.4974, Val Acc: 72.03%\n"
     ]
    },
    {
     "name": "stderr",
     "output_type": "stream",
     "text": [
      "                                                                                                \r"
     ]
    },
    {
     "name": "stdout",
     "output_type": "stream",
     "text": [
      "Epoch 17/120 - Learning Rate: 0.0000187500 | Train Loss: 0.9626, Train Acc: 85.53% | Val Loss: 1.5550, Val Acc: 70.34%\n"
     ]
    },
    {
     "name": "stderr",
     "output_type": "stream",
     "text": [
      "                                                                                                \r"
     ]
    },
    {
     "name": "stdout",
     "output_type": "stream",
     "text": [
      "Epoch 18/120 - Learning Rate: 0.0000093750 | Train Loss: 0.9401, Train Acc: 87.09% | Val Loss: 1.5715, Val Acc: 70.34%\n"
     ]
    },
    {
     "name": "stderr",
     "output_type": "stream",
     "text": [
      "                                                                                                \r"
     ]
    },
    {
     "name": "stdout",
     "output_type": "stream",
     "text": [
      "Epoch 19/120 - Learning Rate: 0.0000093750 | Train Loss: 0.9562, Train Acc: 86.65% | Val Loss: 1.5635, Val Acc: 71.19%\n"
     ]
    },
    {
     "name": "stderr",
     "output_type": "stream",
     "text": [
      "                                                                                                \r"
     ]
    },
    {
     "name": "stdout",
     "output_type": "stream",
     "text": [
      "Epoch 20/120 - Learning Rate: 0.0000046875 | Train Loss: 0.9480, Train Acc: 87.81% | Val Loss: 1.5650, Val Acc: 72.03%\n"
     ]
    },
    {
     "name": "stderr",
     "output_type": "stream",
     "text": [
      "                                                                                                \r"
     ]
    },
    {
     "name": "stdout",
     "output_type": "stream",
     "text": [
      "Epoch 21/120 - Learning Rate: 0.0000046875 | Train Loss: 0.9594, Train Acc: 86.02% | Val Loss: 1.5360, Val Acc: 70.34%\n"
     ]
    },
    {
     "name": "stderr",
     "output_type": "stream",
     "text": [
      "                                                                                                \r"
     ]
    },
    {
     "name": "stdout",
     "output_type": "stream",
     "text": [
      "Epoch 22/120 - Learning Rate: 0.0000023437 | Train Loss: 0.9427, Train Acc: 87.32% | Val Loss: 1.5959, Val Acc: 67.80%\n"
     ]
    },
    {
     "name": "stderr",
     "output_type": "stream",
     "text": [
      "                                                                                                \r"
     ]
    },
    {
     "name": "stdout",
     "output_type": "stream",
     "text": [
      "Epoch 23/120 - Learning Rate: 0.0000023437 | Train Loss: 0.9517, Train Acc: 86.87% | Val Loss: 1.5461, Val Acc: 71.19%\n"
     ]
    },
    {
     "name": "stderr",
     "output_type": "stream",
     "text": [
      "                                                                                                \r"
     ]
    },
    {
     "name": "stdout",
     "output_type": "stream",
     "text": [
      "Epoch 24/120 - Learning Rate: 0.0000011719 | Train Loss: 0.9298, Train Acc: 87.54% | Val Loss: 1.5258, Val Acc: 72.03%\n"
     ]
    },
    {
     "name": "stderr",
     "output_type": "stream",
     "text": [
      "                                                                                                \r"
     ]
    },
    {
     "name": "stdout",
     "output_type": "stream",
     "text": [
      "Epoch 25/120 - Learning Rate: 0.0000011719 | Train Loss: 0.9399, Train Acc: 87.23% | Val Loss: 1.5542, Val Acc: 70.34%\n"
     ]
    },
    {
     "name": "stderr",
     "output_type": "stream",
     "text": [
      "                                                                                                \r"
     ]
    },
    {
     "name": "stdout",
     "output_type": "stream",
     "text": [
      "Epoch 26/120 - Learning Rate: 0.0000005859 | Train Loss: 0.9271, Train Acc: 87.90% | Val Loss: 1.5703, Val Acc: 69.49%\n"
     ]
    },
    {
     "name": "stderr",
     "output_type": "stream",
     "text": [
      "                                                                                                \r"
     ]
    },
    {
     "name": "stdout",
     "output_type": "stream",
     "text": [
      "Epoch 27/120 - Learning Rate: 0.0000005859 | Train Loss: 0.9375, Train Acc: 87.85% | Val Loss: 1.5500, Val Acc: 72.03%\n"
     ]
    },
    {
     "name": "stderr",
     "output_type": "stream",
     "text": [
      "                                                                                                \r"
     ]
    },
    {
     "name": "stdout",
     "output_type": "stream",
     "text": [
      "Epoch 28/120 - Learning Rate: 0.0000002930 | Train Loss: 0.9412, Train Acc: 87.58% | Val Loss: 1.5301, Val Acc: 72.03%\n"
     ]
    },
    {
     "name": "stderr",
     "output_type": "stream",
     "text": [
      "                                                                                                \r"
     ]
    },
    {
     "name": "stdout",
     "output_type": "stream",
     "text": [
      "Epoch 29/120 - Learning Rate: 0.0000002930 | Train Loss: 0.9385, Train Acc: 88.16% | Val Loss: 1.5820, Val Acc: 69.49%\n"
     ]
    },
    {
     "name": "stderr",
     "output_type": "stream",
     "text": [
      "                                                                                                \r"
     ]
    },
    {
     "name": "stdout",
     "output_type": "stream",
     "text": [
      "Epoch 30/120 - Learning Rate: 0.0000001465 | Train Loss: 0.9333, Train Acc: 87.72% | Val Loss: 1.5816, Val Acc: 69.49%\n"
     ]
    },
    {
     "name": "stderr",
     "output_type": "stream",
     "text": [
      "                                                                                                \r"
     ]
    },
    {
     "name": "stdout",
     "output_type": "stream",
     "text": [
      "Epoch 31/120 - Learning Rate: 0.0000001465 | Train Loss: 0.9360, Train Acc: 87.76% | Val Loss: 1.5350, Val Acc: 69.49%\n"
     ]
    },
    {
     "name": "stderr",
     "output_type": "stream",
     "text": [
      "                                                                                                \r"
     ]
    },
    {
     "name": "stdout",
     "output_type": "stream",
     "text": [
      "Epoch 32/120 - Learning Rate: 0.0000000732 | Train Loss: 0.9385, Train Acc: 87.85% | Val Loss: 1.5322, Val Acc: 70.34%\n"
     ]
    },
    {
     "name": "stderr",
     "output_type": "stream",
     "text": [
      "                                                                                                \r"
     ]
    },
    {
     "name": "stdout",
     "output_type": "stream",
     "text": [
      "Epoch 33/120 - Learning Rate: 0.0000000732 | Train Loss: 0.9260, Train Acc: 88.43% | Val Loss: 1.5398, Val Acc: 71.19%\n"
     ]
    },
    {
     "name": "stderr",
     "output_type": "stream",
     "text": [
      "                                                                                                \r"
     ]
    },
    {
     "name": "stdout",
     "output_type": "stream",
     "text": [
      "Epoch 34/120 - Learning Rate: 0.0000000366 | Train Loss: 0.9384, Train Acc: 87.45% | Val Loss: 1.5593, Val Acc: 71.19%\n"
     ]
    },
    {
     "name": "stderr",
     "output_type": "stream",
     "text": [
      "                                                                                                \r"
     ]
    },
    {
     "name": "stdout",
     "output_type": "stream",
     "text": [
      "Epoch 35/120 - Learning Rate: 0.0000000366 | Train Loss: 0.9460, Train Acc: 87.76% | Val Loss: 1.5568, Val Acc: 72.03%\n"
     ]
    },
    {
     "name": "stderr",
     "output_type": "stream",
     "text": [
      "                                                                                                \r"
     ]
    },
    {
     "name": "stdout",
     "output_type": "stream",
     "text": [
      "Epoch 36/120 - Learning Rate: 0.0000000183 | Train Loss: 0.9319, Train Acc: 87.94% | Val Loss: 1.5638, Val Acc: 69.49%\n"
     ]
    },
    {
     "name": "stderr",
     "output_type": "stream",
     "text": [
      "                                                                                                \r"
     ]
    },
    {
     "name": "stdout",
     "output_type": "stream",
     "text": [
      "Epoch 37/120 - Learning Rate: 0.0000000183 | Train Loss: 0.9275, Train Acc: 87.76% | Val Loss: 1.5791, Val Acc: 71.19%\n"
     ]
    },
    {
     "name": "stderr",
     "output_type": "stream",
     "text": [
      "                                                                                                \r"
     ]
    },
    {
     "name": "stdout",
     "output_type": "stream",
     "text": [
      "Epoch 38/120 - Learning Rate: 0.0000000183 | Train Loss: 0.9449, Train Acc: 87.05% | Val Loss: 1.5643, Val Acc: 68.64%\n"
     ]
    },
    {
     "name": "stderr",
     "output_type": "stream",
     "text": [
      "                                                                                                \r"
     ]
    },
    {
     "name": "stdout",
     "output_type": "stream",
     "text": [
      "Epoch 39/120 - Learning Rate: 0.0000000183 | Train Loss: 0.9475, Train Acc: 87.27% | Val Loss: 1.5366, Val Acc: 71.19%\n"
     ]
    },
    {
     "name": "stderr",
     "output_type": "stream",
     "text": [
      "                                                                                                \r"
     ]
    },
    {
     "name": "stdout",
     "output_type": "stream",
     "text": [
      "Epoch 40/120 - Learning Rate: 0.0000000183 | Train Loss: 0.9335, Train Acc: 87.05% | Val Loss: 1.5559, Val Acc: 71.19%\n"
     ]
    },
    {
     "name": "stderr",
     "output_type": "stream",
     "text": [
      "                                                                                                \r"
     ]
    },
    {
     "name": "stdout",
     "output_type": "stream",
     "text": [
      "Epoch 41/120 - Learning Rate: 0.0000000183 | Train Loss: 0.9280, Train Acc: 87.94% | Val Loss: 1.5494, Val Acc: 71.19%\n"
     ]
    },
    {
     "name": "stderr",
     "output_type": "stream",
     "text": [
      "                                                                                                \r"
     ]
    },
    {
     "name": "stdout",
     "output_type": "stream",
     "text": [
      "Epoch 42/120 - Learning Rate: 0.0000000183 | Train Loss: 0.9298, Train Acc: 88.12% | Val Loss: 1.6102, Val Acc: 66.95%\n"
     ]
    },
    {
     "name": "stderr",
     "output_type": "stream",
     "text": [
      "                                                                                                \r"
     ]
    },
    {
     "name": "stdout",
     "output_type": "stream",
     "text": [
      "Epoch 43/120 - Learning Rate: 0.0000000183 | Train Loss: 0.9421, Train Acc: 87.14% | Val Loss: 1.5704, Val Acc: 68.64%\n"
     ]
    },
    {
     "name": "stderr",
     "output_type": "stream",
     "text": [
      "                                                                                                \r"
     ]
    },
    {
     "name": "stdout",
     "output_type": "stream",
     "text": [
      "Epoch 44/120 - Learning Rate: 0.0000000183 | Train Loss: 0.9325, Train Acc: 87.23% | Val Loss: 1.5348, Val Acc: 71.19%\n"
     ]
    },
    {
     "name": "stderr",
     "output_type": "stream",
     "text": [
      "                                                                                                \r"
     ]
    },
    {
     "name": "stdout",
     "output_type": "stream",
     "text": [
      "Epoch 45/120 - Learning Rate: 0.0000000183 | Train Loss: 0.9342, Train Acc: 87.54% | Val Loss: 1.5662, Val Acc: 69.49%\n"
     ]
    },
    {
     "name": "stderr",
     "output_type": "stream",
     "text": [
      "                                                                                                \r"
     ]
    },
    {
     "name": "stdout",
     "output_type": "stream",
     "text": [
      "Epoch 46/120 - Learning Rate: 0.0000000183 | Train Loss: 0.9418, Train Acc: 87.63% | Val Loss: 1.5461, Val Acc: 72.88%\n"
     ]
    },
    {
     "name": "stderr",
     "output_type": "stream",
     "text": [
      "                                                                                                \r"
     ]
    },
    {
     "name": "stdout",
     "output_type": "stream",
     "text": [
      "Epoch 47/120 - Learning Rate: 0.0000000183 | Train Loss: 0.9306, Train Acc: 88.48% | Val Loss: 1.5680, Val Acc: 69.49%\n"
     ]
    },
    {
     "name": "stderr",
     "output_type": "stream",
     "text": [
      "                                                                                                \r"
     ]
    },
    {
     "name": "stdout",
     "output_type": "stream",
     "text": [
      "Epoch 48/120 - Learning Rate: 0.0000000183 | Train Loss: 0.9315, Train Acc: 87.99% | Val Loss: 1.5791, Val Acc: 67.80%\n"
     ]
    },
    {
     "name": "stderr",
     "output_type": "stream",
     "text": [
      "                                                                                                \r"
     ]
    },
    {
     "name": "stdout",
     "output_type": "stream",
     "text": [
      "Epoch 49/120 - Learning Rate: 0.0000000183 | Train Loss: 0.9428, Train Acc: 87.00% | Val Loss: 1.5743, Val Acc: 68.64%\n"
     ]
    },
    {
     "name": "stderr",
     "output_type": "stream",
     "text": [
      "                                                                                                \r"
     ]
    },
    {
     "name": "stdout",
     "output_type": "stream",
     "text": [
      "Epoch 50/120 - Learning Rate: 0.0000000183 | Train Loss: 0.9338, Train Acc: 87.45% | Val Loss: 1.5468, Val Acc: 71.19%\n"
     ]
    },
    {
     "name": "stderr",
     "output_type": "stream",
     "text": [
      "                                                                                                \r"
     ]
    },
    {
     "name": "stdout",
     "output_type": "stream",
     "text": [
      "Epoch 51/120 - Learning Rate: 0.0000000183 | Train Loss: 0.9402, Train Acc: 87.72% | Val Loss: 1.5634, Val Acc: 69.49%\n"
     ]
    },
    {
     "name": "stderr",
     "output_type": "stream",
     "text": [
      "                                                                                                \r"
     ]
    },
    {
     "name": "stdout",
     "output_type": "stream",
     "text": [
      "Epoch 52/120 - Learning Rate: 0.0000000183 | Train Loss: 0.9340, Train Acc: 87.58% | Val Loss: 1.5435, Val Acc: 71.19%\n"
     ]
    },
    {
     "name": "stderr",
     "output_type": "stream",
     "text": [
      "                                                                                                \r"
     ]
    },
    {
     "name": "stdout",
     "output_type": "stream",
     "text": [
      "Epoch 53/120 - Learning Rate: 0.0000000183 | Train Loss: 0.9461, Train Acc: 87.23% | Val Loss: 1.5829, Val Acc: 69.49%\n"
     ]
    },
    {
     "name": "stderr",
     "output_type": "stream",
     "text": [
      "                                                                                                \r"
     ]
    },
    {
     "name": "stdout",
     "output_type": "stream",
     "text": [
      "Epoch 54/120 - Learning Rate: 0.0000000183 | Train Loss: 0.9341, Train Acc: 87.63% | Val Loss: 1.5565, Val Acc: 71.19%\n"
     ]
    },
    {
     "name": "stderr",
     "output_type": "stream",
     "text": [
      "                                                                                                \r"
     ]
    },
    {
     "name": "stdout",
     "output_type": "stream",
     "text": [
      "Epoch 55/120 - Learning Rate: 0.0000000183 | Train Loss: 0.9340, Train Acc: 87.76% | Val Loss: 1.5501, Val Acc: 71.19%\n"
     ]
    },
    {
     "name": "stderr",
     "output_type": "stream",
     "text": [
      "                                                                                                \r"
     ]
    },
    {
     "name": "stdout",
     "output_type": "stream",
     "text": [
      "Epoch 56/120 - Learning Rate: 0.0000000183 | Train Loss: 0.9643, Train Acc: 86.20% | Val Loss: 1.5683, Val Acc: 69.49%\n"
     ]
    },
    {
     "name": "stderr",
     "output_type": "stream",
     "text": [
      "                                                                                                \r"
     ]
    },
    {
     "name": "stdout",
     "output_type": "stream",
     "text": [
      "Epoch 57/120 - Learning Rate: 0.0000000183 | Train Loss: 0.9427, Train Acc: 87.81% | Val Loss: 1.5343, Val Acc: 70.34%\n"
     ]
    },
    {
     "name": "stderr",
     "output_type": "stream",
     "text": [
      "                                                                                                \r"
     ]
    },
    {
     "name": "stdout",
     "output_type": "stream",
     "text": [
      "Epoch 58/120 - Learning Rate: 0.0000000183 | Train Loss: 0.9423, Train Acc: 87.23% | Val Loss: 1.5798, Val Acc: 67.80%\n"
     ]
    },
    {
     "name": "stderr",
     "output_type": "stream",
     "text": [
      "                                                                                                \r"
     ]
    },
    {
     "name": "stdout",
     "output_type": "stream",
     "text": [
      "Epoch 59/120 - Learning Rate: 0.0000000183 | Train Loss: 0.9305, Train Acc: 86.78% | Val Loss: 1.5552, Val Acc: 70.34%\n"
     ]
    },
    {
     "name": "stderr",
     "output_type": "stream",
     "text": [
      "                                                                                                \r"
     ]
    },
    {
     "name": "stdout",
     "output_type": "stream",
     "text": [
      "Epoch 60/120 - Learning Rate: 0.0000000183 | Train Loss: 0.9452, Train Acc: 87.18% | Val Loss: 1.5517, Val Acc: 71.19%\n"
     ]
    },
    {
     "name": "stderr",
     "output_type": "stream",
     "text": [
      "                                                                                                \r"
     ]
    },
    {
     "name": "stdout",
     "output_type": "stream",
     "text": [
      "Epoch 61/120 - Learning Rate: 0.0000000183 | Train Loss: 0.9401, Train Acc: 87.63% | Val Loss: 1.5471, Val Acc: 72.03%\n"
     ]
    },
    {
     "name": "stderr",
     "output_type": "stream",
     "text": [
      "                                                                                                \r"
     ]
    },
    {
     "name": "stdout",
     "output_type": "stream",
     "text": [
      "Epoch 62/120 - Learning Rate: 0.0000000183 | Train Loss: 0.9292, Train Acc: 87.27% | Val Loss: 1.6106, Val Acc: 68.64%\n"
     ]
    },
    {
     "name": "stderr",
     "output_type": "stream",
     "text": [
      "                                                                                                \r"
     ]
    },
    {
     "name": "stdout",
     "output_type": "stream",
     "text": [
      "Epoch 63/120 - Learning Rate: 0.0000000183 | Train Loss: 0.9339, Train Acc: 87.76% | Val Loss: 1.5547, Val Acc: 69.49%\n"
     ]
    },
    {
     "name": "stderr",
     "output_type": "stream",
     "text": [
      "                                                                                                \r"
     ]
    },
    {
     "name": "stdout",
     "output_type": "stream",
     "text": [
      "Epoch 64/120 - Learning Rate: 0.0000000183 | Train Loss: 0.9267, Train Acc: 88.12% | Val Loss: 1.5428, Val Acc: 71.19%\n"
     ]
    },
    {
     "name": "stderr",
     "output_type": "stream",
     "text": [
      "                                                                                                \r"
     ]
    },
    {
     "name": "stdout",
     "output_type": "stream",
     "text": [
      "Epoch 65/120 - Learning Rate: 0.0000000183 | Train Loss: 0.9220, Train Acc: 88.57% | Val Loss: 1.5699, Val Acc: 69.49%\n"
     ]
    },
    {
     "name": "stderr",
     "output_type": "stream",
     "text": [
      "                                                                                                \r"
     ]
    },
    {
     "name": "stdout",
     "output_type": "stream",
     "text": [
      "Epoch 66/120 - Learning Rate: 0.0000000183 | Train Loss: 0.9297, Train Acc: 88.25% | Val Loss: 1.5493, Val Acc: 71.19%\n"
     ]
    },
    {
     "name": "stderr",
     "output_type": "stream",
     "text": [
      "                                                                                                \r"
     ]
    },
    {
     "name": "stdout",
     "output_type": "stream",
     "text": [
      "Epoch 67/120 - Learning Rate: 0.0000000183 | Train Loss: 0.9336, Train Acc: 87.23% | Val Loss: 1.5633, Val Acc: 69.49%\n"
     ]
    },
    {
     "name": "stderr",
     "output_type": "stream",
     "text": [
      "                                                                                                \r"
     ]
    },
    {
     "name": "stdout",
     "output_type": "stream",
     "text": [
      "Epoch 68/120 - Learning Rate: 0.0000000183 | Train Loss: 0.9474, Train Acc: 87.72% | Val Loss: 1.5597, Val Acc: 71.19%\n"
     ]
    },
    {
     "name": "stderr",
     "output_type": "stream",
     "text": [
      "                                                                                                \r"
     ]
    },
    {
     "name": "stdout",
     "output_type": "stream",
     "text": [
      "Epoch 69/120 - Learning Rate: 0.0000000183 | Train Loss: 0.9326, Train Acc: 88.52% | Val Loss: 1.5463, Val Acc: 70.34%\n"
     ]
    },
    {
     "name": "stderr",
     "output_type": "stream",
     "text": [
      "                                                                                                \r"
     ]
    },
    {
     "name": "stdout",
     "output_type": "stream",
     "text": [
      "Epoch 70/120 - Learning Rate: 0.0000000183 | Train Loss: 0.9326, Train Acc: 88.21% | Val Loss: 1.5520, Val Acc: 70.34%\n"
     ]
    },
    {
     "name": "stderr",
     "output_type": "stream",
     "text": [
      "                                                                                                \r"
     ]
    },
    {
     "name": "stdout",
     "output_type": "stream",
     "text": [
      "Epoch 71/120 - Learning Rate: 0.0000000183 | Train Loss: 0.9334, Train Acc: 87.54% | Val Loss: 1.5682, Val Acc: 69.49%\n"
     ]
    },
    {
     "name": "stderr",
     "output_type": "stream",
     "text": [
      "                                                                                                \r"
     ]
    },
    {
     "name": "stdout",
     "output_type": "stream",
     "text": [
      "Epoch 72/120 - Learning Rate: 0.0000000183 | Train Loss: 0.9220, Train Acc: 87.99% | Val Loss: 1.5599, Val Acc: 68.64%\n"
     ]
    },
    {
     "name": "stderr",
     "output_type": "stream",
     "text": [
      "                                                                                                \r"
     ]
    },
    {
     "name": "stdout",
     "output_type": "stream",
     "text": [
      "Epoch 73/120 - Learning Rate: 0.0000000183 | Train Loss: 0.9490, Train Acc: 87.54% | Val Loss: 1.5609, Val Acc: 70.34%\n"
     ]
    },
    {
     "name": "stderr",
     "output_type": "stream",
     "text": [
      "                                                                                                \r"
     ]
    },
    {
     "name": "stdout",
     "output_type": "stream",
     "text": [
      "Epoch 74/120 - Learning Rate: 0.0000000183 | Train Loss: 0.9432, Train Acc: 87.54% | Val Loss: 1.5683, Val Acc: 71.19%\n"
     ]
    },
    {
     "name": "stderr",
     "output_type": "stream",
     "text": [
      "                                                                                                \r"
     ]
    },
    {
     "name": "stdout",
     "output_type": "stream",
     "text": [
      "Epoch 75/120 - Learning Rate: 0.0000000183 | Train Loss: 0.9383, Train Acc: 87.63% | Val Loss: 1.5251, Val Acc: 69.49%\n"
     ]
    },
    {
     "name": "stderr",
     "output_type": "stream",
     "text": [
      "                                                                                                \r"
     ]
    },
    {
     "name": "stdout",
     "output_type": "stream",
     "text": [
      "Epoch 76/120 - Learning Rate: 0.0000000183 | Train Loss: 0.9373, Train Acc: 88.12% | Val Loss: 1.5852, Val Acc: 68.64%\n"
     ]
    },
    {
     "name": "stderr",
     "output_type": "stream",
     "text": [
      "                                                                                                \r"
     ]
    },
    {
     "name": "stdout",
     "output_type": "stream",
     "text": [
      "Epoch 77/120 - Learning Rate: 0.0000000183 | Train Loss: 0.9349, Train Acc: 87.94% | Val Loss: 1.5394, Val Acc: 72.88%\n"
     ]
    },
    {
     "name": "stderr",
     "output_type": "stream",
     "text": [
      "                                                                                                \r"
     ]
    },
    {
     "name": "stdout",
     "output_type": "stream",
     "text": [
      "Epoch 78/120 - Learning Rate: 0.0000000183 | Train Loss: 0.9300, Train Acc: 87.63% | Val Loss: 1.5124, Val Acc: 72.88%\n"
     ]
    },
    {
     "name": "stderr",
     "output_type": "stream",
     "text": [
      "                                                                                                \r"
     ]
    },
    {
     "name": "stdout",
     "output_type": "stream",
     "text": [
      "Epoch 79/120 - Learning Rate: 0.0000000183 | Train Loss: 0.9330, Train Acc: 87.72% | Val Loss: 1.5533, Val Acc: 70.34%\n"
     ]
    },
    {
     "name": "stderr",
     "output_type": "stream",
     "text": [
      "                                                                                                \r"
     ]
    },
    {
     "name": "stdout",
     "output_type": "stream",
     "text": [
      "Epoch 80/120 - Learning Rate: 0.0000000183 | Train Loss: 0.9307, Train Acc: 87.36% | Val Loss: 1.5455, Val Acc: 70.34%\n"
     ]
    },
    {
     "name": "stderr",
     "output_type": "stream",
     "text": [
      "                                                                                                \r"
     ]
    },
    {
     "name": "stdout",
     "output_type": "stream",
     "text": [
      "Epoch 81/120 - Learning Rate: 0.0000000183 | Train Loss: 0.9386, Train Acc: 87.90% | Val Loss: 1.5492, Val Acc: 69.49%\n"
     ]
    },
    {
     "name": "stderr",
     "output_type": "stream",
     "text": [
      "                                                                                                \r"
     ]
    },
    {
     "name": "stdout",
     "output_type": "stream",
     "text": [
      "Epoch 82/120 - Learning Rate: 0.0000000183 | Train Loss: 0.9307, Train Acc: 88.34% | Val Loss: 1.5588, Val Acc: 71.19%\n"
     ]
    },
    {
     "name": "stderr",
     "output_type": "stream",
     "text": [
      "                                                                                                \r"
     ]
    },
    {
     "name": "stdout",
     "output_type": "stream",
     "text": [
      "Epoch 83/120 - Learning Rate: 0.0000000183 | Train Loss: 0.9383, Train Acc: 87.18% | Val Loss: 1.5989, Val Acc: 67.80%\n"
     ]
    },
    {
     "name": "stderr",
     "output_type": "stream",
     "text": [
      "                                                                                                \r"
     ]
    },
    {
     "name": "stdout",
     "output_type": "stream",
     "text": [
      "Epoch 84/120 - Learning Rate: 0.0000000183 | Train Loss: 0.9500, Train Acc: 88.12% | Val Loss: 1.5608, Val Acc: 70.34%\n"
     ]
    },
    {
     "name": "stderr",
     "output_type": "stream",
     "text": [
      "                                                                                                \r"
     ]
    },
    {
     "name": "stdout",
     "output_type": "stream",
     "text": [
      "Epoch 85/120 - Learning Rate: 0.0000000183 | Train Loss: 0.9413, Train Acc: 88.03% | Val Loss: 1.5363, Val Acc: 71.19%\n"
     ]
    },
    {
     "name": "stderr",
     "output_type": "stream",
     "text": [
      "                                                                                                \r"
     ]
    },
    {
     "name": "stdout",
     "output_type": "stream",
     "text": [
      "Epoch 86/120 - Learning Rate: 0.0000000183 | Train Loss: 0.9297, Train Acc: 88.03% | Val Loss: 1.6031, Val Acc: 69.49%\n"
     ]
    },
    {
     "name": "stderr",
     "output_type": "stream",
     "text": [
      "                                                                                                \r"
     ]
    },
    {
     "name": "stdout",
     "output_type": "stream",
     "text": [
      "Epoch 87/120 - Learning Rate: 0.0000000183 | Train Loss: 0.9362, Train Acc: 87.36% | Val Loss: 1.5668, Val Acc: 70.34%\n"
     ]
    },
    {
     "name": "stderr",
     "output_type": "stream",
     "text": [
      "                                                                                                \r"
     ]
    },
    {
     "name": "stdout",
     "output_type": "stream",
     "text": [
      "Epoch 88/120 - Learning Rate: 0.0000000183 | Train Loss: 0.9449, Train Acc: 87.54% | Val Loss: 1.5254, Val Acc: 70.34%\n"
     ]
    },
    {
     "name": "stderr",
     "output_type": "stream",
     "text": [
      "                                                                                                \r"
     ]
    },
    {
     "name": "stdout",
     "output_type": "stream",
     "text": [
      "Epoch 89/120 - Learning Rate: 0.0000000183 | Train Loss: 0.9295, Train Acc: 87.85% | Val Loss: 1.5696, Val Acc: 70.34%\n"
     ]
    },
    {
     "name": "stderr",
     "output_type": "stream",
     "text": [
      "                                                                                                \r"
     ]
    },
    {
     "name": "stdout",
     "output_type": "stream",
     "text": [
      "Epoch 90/120 - Learning Rate: 0.0000000183 | Train Loss: 0.9362, Train Acc: 87.63% | Val Loss: 1.5438, Val Acc: 69.49%\n"
     ]
    },
    {
     "name": "stderr",
     "output_type": "stream",
     "text": [
      "                                                                                                \r"
     ]
    },
    {
     "name": "stdout",
     "output_type": "stream",
     "text": [
      "Epoch 91/120 - Learning Rate: 0.0000000183 | Train Loss: 0.9300, Train Acc: 87.99% | Val Loss: 1.5589, Val Acc: 71.19%\n"
     ]
    },
    {
     "name": "stderr",
     "output_type": "stream",
     "text": [
      "                                                                                                \r"
     ]
    },
    {
     "name": "stdout",
     "output_type": "stream",
     "text": [
      "Epoch 92/120 - Learning Rate: 0.0000000183 | Train Loss: 0.9368, Train Acc: 87.36% | Val Loss: 1.5995, Val Acc: 68.64%\n"
     ]
    },
    {
     "name": "stderr",
     "output_type": "stream",
     "text": [
      "                                                                                                \r"
     ]
    },
    {
     "name": "stdout",
     "output_type": "stream",
     "text": [
      "Epoch 93/120 - Learning Rate: 0.0000000183 | Train Loss: 0.9291, Train Acc: 87.41% | Val Loss: 1.5628, Val Acc: 70.34%\n"
     ]
    },
    {
     "name": "stderr",
     "output_type": "stream",
     "text": [
      "                                                                                                \r"
     ]
    },
    {
     "name": "stdout",
     "output_type": "stream",
     "text": [
      "Epoch 94/120 - Learning Rate: 0.0000000183 | Train Loss: 0.9391, Train Acc: 86.82% | Val Loss: 1.5665, Val Acc: 69.49%\n"
     ]
    },
    {
     "name": "stderr",
     "output_type": "stream",
     "text": [
      "                                                                                                \r"
     ]
    },
    {
     "name": "stdout",
     "output_type": "stream",
     "text": [
      "Epoch 95/120 - Learning Rate: 0.0000000183 | Train Loss: 0.9455, Train Acc: 87.49% | Val Loss: 1.5793, Val Acc: 68.64%\n"
     ]
    },
    {
     "name": "stderr",
     "output_type": "stream",
     "text": [
      "                                                                                                \r"
     ]
    },
    {
     "name": "stdout",
     "output_type": "stream",
     "text": [
      "Epoch 96/120 - Learning Rate: 0.0000000183 | Train Loss: 0.9336, Train Acc: 87.76% | Val Loss: 1.5891, Val Acc: 67.80%\n"
     ]
    },
    {
     "name": "stderr",
     "output_type": "stream",
     "text": [
      "                                                                                                \r"
     ]
    },
    {
     "name": "stdout",
     "output_type": "stream",
     "text": [
      "Epoch 97/120 - Learning Rate: 0.0000000183 | Train Loss: 0.9269, Train Acc: 88.34% | Val Loss: 1.5951, Val Acc: 67.80%\n"
     ]
    },
    {
     "name": "stderr",
     "output_type": "stream",
     "text": [
      "                                                                                                \r"
     ]
    },
    {
     "name": "stdout",
     "output_type": "stream",
     "text": [
      "Epoch 98/120 - Learning Rate: 0.0000000183 | Train Loss: 0.9262, Train Acc: 87.94% | Val Loss: 1.5765, Val Acc: 66.95%\n"
     ]
    },
    {
     "name": "stderr",
     "output_type": "stream",
     "text": [
      "                                                                                                \r"
     ]
    },
    {
     "name": "stdout",
     "output_type": "stream",
     "text": [
      "Epoch 99/120 - Learning Rate: 0.0000000183 | Train Loss: 0.9289, Train Acc: 87.18% | Val Loss: 1.5585, Val Acc: 70.34%\n"
     ]
    },
    {
     "name": "stderr",
     "output_type": "stream",
     "text": [
      "                                                                                                 \r"
     ]
    },
    {
     "name": "stdout",
     "output_type": "stream",
     "text": [
      "Epoch 100/120 - Learning Rate: 0.0000000183 | Train Loss: 0.9212, Train Acc: 87.67% | Val Loss: 1.5611, Val Acc: 69.49%\n"
     ]
    },
    {
     "name": "stderr",
     "output_type": "stream",
     "text": [
      "                                                                                                 \r"
     ]
    },
    {
     "name": "stdout",
     "output_type": "stream",
     "text": [
      "Epoch 101/120 - Learning Rate: 0.0000000183 | Train Loss: 0.9418, Train Acc: 87.67% | Val Loss: 1.5385, Val Acc: 72.03%\n"
     ]
    },
    {
     "name": "stderr",
     "output_type": "stream",
     "text": [
      "                                                                                                 \r"
     ]
    },
    {
     "name": "stdout",
     "output_type": "stream",
     "text": [
      "Epoch 102/120 - Learning Rate: 0.0000000183 | Train Loss: 0.9374, Train Acc: 87.90% | Val Loss: 1.5850, Val Acc: 70.34%\n"
     ]
    },
    {
     "name": "stderr",
     "output_type": "stream",
     "text": [
      "                                                                                                 \r"
     ]
    },
    {
     "name": "stdout",
     "output_type": "stream",
     "text": [
      "Epoch 103/120 - Learning Rate: 0.0000000183 | Train Loss: 0.9411, Train Acc: 87.90% | Val Loss: 1.5482, Val Acc: 72.03%\n"
     ]
    },
    {
     "name": "stderr",
     "output_type": "stream",
     "text": [
      "                                                                                                 \r"
     ]
    },
    {
     "name": "stdout",
     "output_type": "stream",
     "text": [
      "Epoch 104/120 - Learning Rate: 0.0000000183 | Train Loss: 0.9313, Train Acc: 87.85% | Val Loss: 1.5244, Val Acc: 73.73%\n"
     ]
    },
    {
     "name": "stderr",
     "output_type": "stream",
     "text": [
      "                                                                                                 \r"
     ]
    },
    {
     "name": "stdout",
     "output_type": "stream",
     "text": [
      "Epoch 105/120 - Learning Rate: 0.0000000183 | Train Loss: 0.9337, Train Acc: 87.18% | Val Loss: 1.6059, Val Acc: 69.49%\n"
     ]
    },
    {
     "name": "stderr",
     "output_type": "stream",
     "text": [
      "                                                                                                 \r"
     ]
    },
    {
     "name": "stdout",
     "output_type": "stream",
     "text": [
      "Epoch 106/120 - Learning Rate: 0.0000000183 | Train Loss: 0.9374, Train Acc: 87.54% | Val Loss: 1.5603, Val Acc: 70.34%\n"
     ]
    },
    {
     "name": "stderr",
     "output_type": "stream",
     "text": [
      "                                                                                                 \r"
     ]
    },
    {
     "name": "stdout",
     "output_type": "stream",
     "text": [
      "Epoch 107/120 - Learning Rate: 0.0000000183 | Train Loss: 0.9448, Train Acc: 87.49% | Val Loss: 1.5705, Val Acc: 68.64%\n"
     ]
    },
    {
     "name": "stderr",
     "output_type": "stream",
     "text": [
      "                                                                                                 \r"
     ]
    },
    {
     "name": "stdout",
     "output_type": "stream",
     "text": [
      "Epoch 108/120 - Learning Rate: 0.0000000183 | Train Loss: 0.9288, Train Acc: 88.43% | Val Loss: 1.5444, Val Acc: 71.19%\n"
     ]
    },
    {
     "name": "stderr",
     "output_type": "stream",
     "text": [
      "                                                                                                 \r"
     ]
    },
    {
     "name": "stdout",
     "output_type": "stream",
     "text": [
      "Epoch 109/120 - Learning Rate: 0.0000000183 | Train Loss: 0.9502, Train Acc: 87.14% | Val Loss: 1.5838, Val Acc: 69.49%\n"
     ]
    },
    {
     "name": "stderr",
     "output_type": "stream",
     "text": [
      "                                                                                                 \r"
     ]
    },
    {
     "name": "stdout",
     "output_type": "stream",
     "text": [
      "Epoch 110/120 - Learning Rate: 0.0000000183 | Train Loss: 0.9376, Train Acc: 87.81% | Val Loss: 1.5322, Val Acc: 69.49%\n"
     ]
    },
    {
     "name": "stderr",
     "output_type": "stream",
     "text": [
      "                                                                                                 \r"
     ]
    },
    {
     "name": "stdout",
     "output_type": "stream",
     "text": [
      "Epoch 111/120 - Learning Rate: 0.0000000183 | Train Loss: 0.9550, Train Acc: 87.32% | Val Loss: 1.6046, Val Acc: 67.80%\n"
     ]
    },
    {
     "name": "stderr",
     "output_type": "stream",
     "text": [
      "                                                                                                 \r"
     ]
    },
    {
     "name": "stdout",
     "output_type": "stream",
     "text": [
      "Epoch 112/120 - Learning Rate: 0.0000000183 | Train Loss: 0.9298, Train Acc: 87.67% | Val Loss: 1.5750, Val Acc: 69.49%\n"
     ]
    },
    {
     "name": "stderr",
     "output_type": "stream",
     "text": [
      "                                                                                                 \r"
     ]
    },
    {
     "name": "stdout",
     "output_type": "stream",
     "text": [
      "Epoch 113/120 - Learning Rate: 0.0000000183 | Train Loss: 0.9394, Train Acc: 87.49% | Val Loss: 1.5752, Val Acc: 69.49%\n"
     ]
    },
    {
     "name": "stderr",
     "output_type": "stream",
     "text": [
      "                                                                                                 \r"
     ]
    },
    {
     "name": "stdout",
     "output_type": "stream",
     "text": [
      "Epoch 114/120 - Learning Rate: 0.0000000183 | Train Loss: 0.9400, Train Acc: 86.78% | Val Loss: 1.5796, Val Acc: 70.34%\n"
     ]
    },
    {
     "name": "stderr",
     "output_type": "stream",
     "text": [
      "                                                                                                 \r"
     ]
    },
    {
     "name": "stdout",
     "output_type": "stream",
     "text": [
      "Epoch 115/120 - Learning Rate: 0.0000000183 | Train Loss: 0.9369, Train Acc: 88.16% | Val Loss: 1.5862, Val Acc: 70.34%\n"
     ]
    },
    {
     "name": "stderr",
     "output_type": "stream",
     "text": [
      "                                                                                                 \r"
     ]
    },
    {
     "name": "stdout",
     "output_type": "stream",
     "text": [
      "Epoch 116/120 - Learning Rate: 0.0000000183 | Train Loss: 0.9389, Train Acc: 87.94% | Val Loss: 1.5797, Val Acc: 70.34%\n"
     ]
    },
    {
     "name": "stderr",
     "output_type": "stream",
     "text": [
      "                                                                                                 \r"
     ]
    },
    {
     "name": "stdout",
     "output_type": "stream",
     "text": [
      "Epoch 117/120 - Learning Rate: 0.0000000183 | Train Loss: 0.9501, Train Acc: 86.82% | Val Loss: 1.5764, Val Acc: 70.34%\n"
     ]
    },
    {
     "name": "stderr",
     "output_type": "stream",
     "text": [
      "                                                                                                 \r"
     ]
    },
    {
     "name": "stdout",
     "output_type": "stream",
     "text": [
      "Epoch 118/120 - Learning Rate: 0.0000000183 | Train Loss: 0.9242, Train Acc: 88.16% | Val Loss: 1.5473, Val Acc: 69.49%\n"
     ]
    },
    {
     "name": "stderr",
     "output_type": "stream",
     "text": [
      "                                                                                                 \r"
     ]
    },
    {
     "name": "stdout",
     "output_type": "stream",
     "text": [
      "Epoch 119/120 - Learning Rate: 0.0000000183 | Train Loss: 0.9396, Train Acc: 87.90% | Val Loss: 1.5468, Val Acc: 70.34%\n"
     ]
    },
    {
     "name": "stderr",
     "output_type": "stream",
     "text": [
      "                                                                                                 "
     ]
    },
    {
     "name": "stdout",
     "output_type": "stream",
     "text": [
      "Epoch 120/120 - Learning Rate: 0.0000000183 | Train Loss: 0.9297, Train Acc: 87.58% | Val Loss: 1.5733, Val Acc: 70.34%\n"
     ]
    },
    {
     "name": "stderr",
     "output_type": "stream",
     "text": [
      "\r"
     ]
    }
   ],
   "source": [
    "%time  # IPython magic command for timing\n",
    "arr_train_loss = []\n",
    "arr_train_acc = []\n",
    "arr_val_loss = []\n",
    "arr_val_acc = []\n",
    "\n",
    "# Training loop\n",
    "for epoch in range(epochs):\n",
    "    # Training phase\n",
    "    model.train()\n",
    "    current_lr = scheduler.get_last_lr()[0]\n",
    "    running_loss = 0.0\n",
    "    correct_train = 0\n",
    "    total_train = 0\n",
    "\n",
    "    train_bar = tqdm(train_loader, desc=f\"Epoch {epoch + 1}/{epochs} [Train]\", leave=False)\n",
    "    for images, labels in train_bar:\n",
    "        images, labels = images.to(device), labels.to(device)\n",
    "\n",
    "        # --Non-Mixed Precision training--\n",
    "        outputs = model(images)\n",
    "        loss = loss_function(outputs, labels)\n",
    "\n",
    "        optimizer.zero_grad()\n",
    "        loss.backward()\n",
    "\n",
    "        clip_grad_norm_(model.parameters(), grad_clip)  # Gradient clipping\n",
    "        optimizer.step()\n",
    "        # --Non-Mixed Precision training--\n",
    "\n",
    "        # Calculate statistics\n",
    "        running_loss += loss.item() * images.size(0)\n",
    "        _, predicted = torch.max(outputs.data, 1)\n",
    "        total_train += labels.size(0)\n",
    "        correct_train += (predicted == labels).sum().item()\n",
    "\n",
    "        # Update progress bar\n",
    "        train_bar.set_postfix({\n",
    "            'loss': f\"{running_loss / total_train:.4f}\",\n",
    "            'acc': f\"{100. * correct_train / total_train:.2f}%\"\n",
    "        })\n",
    "\n",
    "    # Validation phase\n",
    "    model.eval()\n",
    "    val_loss = 0.0\n",
    "    correct_val = 0\n",
    "    total_val = 0\n",
    "\n",
    "    val_bar = tqdm(val_data, desc=f\"Epoch {epoch + 1}/{epochs} [Val]\", leave=False)\n",
    "    with torch.no_grad():\n",
    "        for images, labels in val_bar:\n",
    "            outputs = model(images)\n",
    "            loss = loss_function(outputs, labels)\n",
    "\n",
    "            val_loss += loss.item() * images.size(0)\n",
    "            _, predicted = torch.max(outputs.data, 1)\n",
    "            total_val += labels.size(0)\n",
    "            correct_val += (predicted == labels).sum().item()\n",
    "\n",
    "            # Update progress bar\n",
    "            val_bar.set_postfix({\n",
    "                'loss': f\"{val_loss / total_val:.4f}\",\n",
    "                'acc': f\"{100. * correct_val / total_val:.2f}%\"\n",
    "            })\n",
    "\n",
    "    # Update learning rate\n",
    "    if isinstance(scheduler, torch.optim.lr_scheduler.CosineAnnealingWarmRestarts) or isinstance(scheduler, torch.optim.lr_scheduler.CosineAnnealingLR):\n",
    "        scheduler.step()\n",
    "    else:\n",
    "        scheduler.step(val_loss / total_val)\n",
    "\n",
    "    # Print epoch summary\n",
    "    print(f\"Epoch {epoch + 1}/{epochs} - \"\n",
    "          f\"Learning Rate: {current_lr:.10f} | \"\n",
    "          f\"Train Loss: {running_loss / total_train:.4f}, Train Acc: {100. * correct_train / total_train:.2f}% | \"\n",
    "          f\"Val Loss: {val_loss / total_val:.4f}, Val Acc: {100. * correct_val / total_val:.2f}%\")\n",
    "    \n",
    "    # Save training and validation loss and accuracy\n",
    "    arr_train_loss.append(running_loss / total_train)\n",
    "    arr_train_acc.append(100. * correct_train / total_train)\n",
    "    arr_val_loss.append(val_loss / total_val)\n",
    "    arr_val_acc.append(100. * correct_val / total_val)"
   ]
  },
  {
   "cell_type": "markdown",
   "id": "c7f05590085d19fe",
   "metadata": {},
   "source": [
    "### Training log and data export"
   ]
  },
  {
   "cell_type": "code",
   "execution_count": 29,
   "id": "88cbef08ee604230",
   "metadata": {
    "ExecuteTime": {
     "end_time": "2025-04-21T12:11:52.411762Z",
     "start_time": "2025-04-21T12:11:52.409200Z"
    }
   },
   "outputs": [
    {
     "data": {
      "image/png": "[encoded data removed]",
      "text/plain": [
       "<Figure size 1200x500 with 2 Axes>"
      ]
     },
     "metadata": {},
     "output_type": "display_data"
    }
   ],
   "source": [
    "import matplotlib.pyplot as plt\n",
    "plt.figure(figsize=(12, 5))\n",
    "\n",
    "plt.subplot(1, 2, 1)\n",
    "plt.plot(arr_train_loss, label='Train Loss', color='blue', linestyle='-')\n",
    "plt.plot(arr_val_loss, label='Val Loss', color='red', linestyle='-')\n",
    "plt.title('Training and Validation Loss')\n",
    "plt.xlabel('Epoch')\n",
    "plt.ylabel('Loss')\n",
    "plt.legend()\n",
    "plt.grid(True, linestyle='--', alpha=0.5)\n",
    "plt.xticks(np.arange(start=0, stop=len(arr_train_loss)+1, step=10))\n",
    "plt.xlim(-5, len(arr_train_loss))\n",
    "plt.yticks(np.arange(start=0, stop=max(arr_train_loss) + 0.5, step=0.25))\n",
    "\n",
    "plt.subplot(1, 2, 2)\n",
    "plt.plot(arr_train_acc, label='Train Acc', color='blue', linestyle='-')\n",
    "plt.plot(arr_val_acc, label='Val Acc', color='red', linestyle='-')\n",
    "plt.title('Training and Validation Accuracy')\n",
    "plt.xlabel('Epoch')\n",
    "plt.ylabel('Accuracy')\n",
    "plt.legend()\n",
    "plt.grid(True, linestyle='--', alpha=0.5)\n",
    "plt.xticks(np.arange(start=0, stop=len(arr_train_loss)+1, step=10))\n",
    "plt.xlim(-5, len(arr_train_loss))\n",
    "plt.yticks(np.arange(start=max(min(arr_train_acc)//10*10-10, 0), stop=max(arr_train_acc)//10*10+30, step=10))\n",
    "\n",
    "\n",
    "plt.tight_layout()\n",
    "plt.savefig('loss_acc_curves.png', dpi=300, bbox_inches='tight')\n",
    "plt.show()"
   ]
  },
  {
   "cell_type": "code",
   "execution_count": 17,
   "id": "efcf0dac",
   "metadata": {},
   "outputs": [],
   "source": [
    "# TODO: Save model parameter states\n",
    "# TODO: Save training log data as CSV file"
   ]
  },
  {
   "cell_type": "code",
   "execution_count": 18,
   "id": "1e080da5",
   "metadata": {},
   "outputs": [],
   "source": [
    "# iteration 6 template 2\n",
    "# Updates:\n",
    "# 1. Abandon preloading train data to device\n",
    "# 2. Redo data augmentation/transformation\n",
    "# 3. Adjust hyperparameters\n",
    "# 4. Fix variable names in cells\n",
    "# 5. Add plot output"
   ]
  }
 ],
 "metadata": {
  "kernelspec": {
   "display_name": "CSC671-S25-TeamProject",
   "language": "python",
   "name": "python3"
  },
  "language_info": {
   "codemirror_mode": {
    "name": "ipython",
    "version": 3
   },
   "file_extension": ".py",
   "mimetype": "text/x-python",
   "name": "python",
   "nbconvert_exporter": "python",
   "pygments_lexer": "ipython3",
   "version": "3.12.3"
  }
 },
 "nbformat": 4,
 "nbformat_minor": 5
}
