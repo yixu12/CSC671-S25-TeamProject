{
 "cells": [
  {
   "metadata": {},
   "cell_type": "markdown",
   "source": "### A demo to compare the image before and after transformation",
   "id": "88d71d8ecc924458"
  },
  {
   "metadata": {},
   "cell_type": "code",
   "source": [
    "import matplotlib.pyplot as plt\n",
    "from PIL import Image\n",
    "from torchvision import transforms"
   ],
   "id": "71b32907d45f933a",
   "outputs": [],
   "execution_count": null
  },
  {
   "metadata": {},
   "cell_type": "code",
   "source": [
    "# Load image\n",
    "image_path = \"data/train/nevus/ISIC_0000019.jpg\" # or wherever your test image is located\n",
    "original_image = Image.open(image_path)"
   ],
   "id": "1dd397cc49f072cb",
   "outputs": [],
   "execution_count": null
  },
  {
   "metadata": {},
   "cell_type": "code",
   "source": [
    "''' Don't forget to invert image by right-click '''\n",
    "# Show the original image\n",
    "plt.imshow(original_image, cmap=None)\n",
    "plt.axis(\"off\")\n",
    "plt.show()"
   ],
   "id": "c80b5fb10db05f68",
   "outputs": [],
   "execution_count": null
  },
  {
   "metadata": {},
   "cell_type": "markdown",
   "source": "### Transformation Test Ground",
   "id": "a62dc1a0d0271b4"
  },
  {
   "metadata": {},
   "cell_type": "code",
   "source": [
    "# https://pytorch.org/vision/0.9/transforms.html\n",
    "# Define the transformation rules\n",
    "transform = transforms.Compose([\n",
    "    #transforms.RandomRotation(degrees=6),\n",
    "    #transforms.RandomResizedCrop(size=224),\n",
    "    #transforms.RandomHorizontalFlip(p=1),\n",
    "    transforms.ToTensor(),\n",
    "    #transforms.Normalize(mean=[0.485, 0.456, 0.406],std=[0.229, 0.224, 0.225]) # ImageNet1K stats\n",
    "])"
   ],
   "id": "86bd6f006028be6b",
   "outputs": [],
   "execution_count": null
  },
  {
   "metadata": {},
   "cell_type": "code",
   "source": [
    "transformed_image = transform(original_image)\n",
    "transformed_image = transforms.ToPILImage()(transformed_image)\n",
    "plt.imshow(transformed_image, cmap=None)\n",
    "plt.axis(\"off\")\n",
    "plt.show()"
   ],
   "id": "85a1b600769f28fc",
   "outputs": [],
   "execution_count": null
  }
 ],
 "metadata": {
  "kernelspec": {
   "display_name": "Python 3",
   "language": "python",
   "name": "python3"
  },
  "language_info": {
   "codemirror_mode": {
    "name": "ipython",
    "version": 2
   },
   "file_extension": ".py",
   "mimetype": "text/x-python",
   "name": "python",
   "nbconvert_exporter": "python",
   "pygments_lexer": "ipython2",
   "version": "2.7.6"
  }
 },
 "nbformat": 4,
 "nbformat_minor": 5
}
