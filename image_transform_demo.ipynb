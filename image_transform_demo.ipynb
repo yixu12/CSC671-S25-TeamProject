{
 "cells": [
  {
   "cell_type": "markdown",
   "id": "88d71d8ecc924458",
   "metadata": {},
   "source": [
    "### A demo to compare the image before and after transformation"
   ]
  },
  {
   "cell_type": "code",
   "execution_count": null,
   "id": "192618460893063d",
   "metadata": {
    "ExecuteTime": {
     "end_time": "2025-04-21T05:00:08.893742Z",
     "start_time": "2025-04-21T05:00:08.671967Z"
    }
   },
   "outputs": [],
   "source": [
    "import os\n",
    "os.environ[\"KMP_DUPLICATE_LIB_OK\"] = \"True\"     # unsafe\n",
    "import matplotlib.pyplot as plt\n",
    "from PIL import Image\n",
    "from torchvision import transforms"
   ]
  },
  {
   "cell_type": "code",
   "execution_count": null,
   "id": "1dd397cc49f072cb",
   "metadata": {
    "ExecuteTime": {
     "end_time": "2025-04-21T05:00:14.606476Z",
     "start_time": "2025-04-21T05:00:14.596327Z"
    }
   },
   "outputs": [],
   "source": [
    "# Load image\n",
    "image_path = \"data/Train/melanoma/ISIC_0000153.jpg\" # or wherever your test image is located\n",
    "original_image = Image.open(image_path)"
   ]
  },
  {
   "cell_type": "code",
   "execution_count": null,
   "id": "c80b5fb10db05f68",
   "metadata": {},
   "outputs": [],
   "source": [
    "# If you are using PyCharm don't forget to invert the image by right clicking on it and selecting \"Invert Image\"\n",
    "# Show the original image\n",
    "plt.imshow(original_image, cmap=None)\n",
    "plt.axis(\"off\")\n",
    "plt.show()"
   ]
  },
  {
   "cell_type": "markdown",
   "id": "a62dc1a0d0271b4",
   "metadata": {},
   "source": [
    "### Transformation Test Ground"
   ]
  },
  {
   "cell_type": "code",
   "execution_count": null,
   "id": "86bd6f006028be6b",
   "metadata": {
    "ExecuteTime": {
     "end_time": "2025-04-21T05:00:17.793610Z",
     "start_time": "2025-04-21T05:00:17.790167Z"
    }
   },
   "outputs": [],
   "source": [
    "# https://pytorch.org/vision/0.9/transforms.html\n",
    "# Define the transformation rules\n",
    "img_size = 384\n",
    "transform = transforms.Compose([    # on training dataset\n",
    "    transforms.Resize(450),\n",
    "\n",
    "    transforms.Pad(padding=150, padding_mode='reflect'),\n",
    "    transforms.RandomRotation(45, expand=False, fill=0),\n",
    "    transforms.RandomAffine(\n",
    "        degrees=0,\n",
    "        translate=(0.1, 0.1),\n",
    "        scale=(0.9, 1.1),\n",
    "        shear=10,\n",
    "        interpolation=transforms.InterpolationMode.BILINEAR,\n",
    "    ),\n",
    "    transforms.CenterCrop(450),\n",
    "    transforms.RandomResizedCrop(img_size, scale=(0.9, 1.0), ratio=(0.8, 1.2)),\n",
    "\n",
    "    # transforms.RandomHorizontalFlip(),\n",
    "    # transforms.RandomVerticalFlip(),\n",
    "    # transforms.ColorJitter(brightness=0.1, contrast=0.1, saturation=0.3, hue=0.02),\n",
    "    \n",
    "    transforms.ToTensor(),\n",
    "    # transforms.Normalize([0.485,0.456,0.406],[0.229,0.224,0.225]),\n",
    "    # transforms.RandomErasing(p=0.3, scale=(0.02, 0.05), ratio=(0.3, 3.3), value='random', inplace=False),\n",
    "    ])\n"
   ]
  },
  {
   "cell_type": "code",
   "execution_count": null,
   "id": "85a1b600769f28fc",
   "metadata": {},
   "outputs": [],
   "source": [
    "transformed_image = transform(original_image)\n",
    "transformed_image = transforms.ToPILImage()(transformed_image)\n",
    "plt.imshow(transformed_image, cmap=None)\n",
    "plt.axis(\"off\")\n",
    "plt.show()\n",
    "\n",
    "print(\"Original image size:\", original_image.size)\n",
    "print(\"Transformed image size:\", transformed_image.size)"
   ]
  }
 ],
 "metadata": {
  "kernelspec": {
   "display_name": "CSC671-S25-TeamProject",
   "language": "python",
   "name": "python3"
  },
  "language_info": {
   "codemirror_mode": {
    "name": "ipython",
    "version": 3
   },
   "file_extension": ".py",
   "mimetype": "text/x-python",
   "name": "python",
   "nbconvert_exporter": "python",
   "pygments_lexer": "ipython3",
   "version": "3.12.3"
  }
 },
 "nbformat": 4,
 "nbformat_minor": 5
}
