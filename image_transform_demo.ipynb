{
 "cells": [
  {
   "cell_type": "markdown",
   "id": "88d71d8ecc924458",
   "metadata": {},
   "source": [
    "### A demo to compare the image before and after transformation"
   ]
  },
  {
   "cell_type": "code",
   "execution_count": 1,
   "id": "71b32907d45f933a",
   "metadata": {},
   "outputs": [],
   "source": [
    "import matplotlib.pyplot as plt\n",
    "from PIL import Image\n",
    "from torchvision import transforms"
   ]
  },
  {
   "cell_type": "code",
   "execution_count": 2,
   "id": "1dd397cc49f072cb",
   "metadata": {},
   "outputs": [
    {
     "ename": "FileNotFoundError",
     "evalue": "[Errno 2] No such file or directory: '/Users/jasonyentw/Python/Project/CSC671-S25-TeamProject/data/train/nevus/ISIC_0000019.jpg'",
     "output_type": "error",
     "traceback": [
      "\u001b[0;31m---------------------------------------------------------------------------\u001b[0m",
      "\u001b[0;31mFileNotFoundError\u001b[0m                         Traceback (most recent call last)",
      "Cell \u001b[0;32mIn[2], line 3\u001b[0m\n\u001b[1;32m      1\u001b[0m \u001b[38;5;66;03m# Load image\u001b[39;00m\n\u001b[1;32m      2\u001b[0m image_path \u001b[38;5;241m=\u001b[39m \u001b[38;5;124m\"\u001b[39m\u001b[38;5;124mdata/train/nevus/ISIC_0000019.jpg\u001b[39m\u001b[38;5;124m\"\u001b[39m \u001b[38;5;66;03m# or wherever your test image is located\u001b[39;00m\n\u001b[0;32m----> 3\u001b[0m original_image \u001b[38;5;241m=\u001b[39m \u001b[43mImage\u001b[49m\u001b[38;5;241;43m.\u001b[39;49m\u001b[43mopen\u001b[49m\u001b[43m(\u001b[49m\u001b[43mimage_path\u001b[49m\u001b[43m)\u001b[49m\n",
      "File \u001b[0;32m~/Python/venv/lib/python3.8/site-packages/PIL/Image.py:3431\u001b[0m, in \u001b[0;36mopen\u001b[0;34m(fp, mode, formats)\u001b[0m\n\u001b[1;32m   3428\u001b[0m     filename \u001b[38;5;241m=\u001b[39m os\u001b[38;5;241m.\u001b[39mpath\u001b[38;5;241m.\u001b[39mrealpath(os\u001b[38;5;241m.\u001b[39mfspath(fp))\n\u001b[1;32m   3430\u001b[0m \u001b[38;5;28;01mif\u001b[39;00m filename:\n\u001b[0;32m-> 3431\u001b[0m     fp \u001b[38;5;241m=\u001b[39m \u001b[43mbuiltins\u001b[49m\u001b[38;5;241;43m.\u001b[39;49m\u001b[43mopen\u001b[49m\u001b[43m(\u001b[49m\u001b[43mfilename\u001b[49m\u001b[43m,\u001b[49m\u001b[43m \u001b[49m\u001b[38;5;124;43m\"\u001b[39;49m\u001b[38;5;124;43mrb\u001b[39;49m\u001b[38;5;124;43m\"\u001b[39;49m\u001b[43m)\u001b[49m\n\u001b[1;32m   3432\u001b[0m     exclusive_fp \u001b[38;5;241m=\u001b[39m \u001b[38;5;28;01mTrue\u001b[39;00m\n\u001b[1;32m   3433\u001b[0m \u001b[38;5;28;01melse\u001b[39;00m:\n",
      "\u001b[0;31mFileNotFoundError\u001b[0m: [Errno 2] No such file or directory: '/Users/jasonyentw/Python/Project/CSC671-S25-TeamProject/data/train/nevus/ISIC_0000019.jpg'"
     ]
    }
   ],
   "source": [
    "# Load image\n",
    "image_path = \"data/train/nevus/ISIC_0000019.jpg\" # or wherever your test image is located\n",
    "original_image = Image.open(image_path)"
   ]
  },
  {
   "cell_type": "code",
   "execution_count": null,
   "id": "c80b5fb10db05f68",
   "metadata": {},
   "outputs": [],
   "source": [
    "''' Don't forget to invert image by right-click '''\n",
    "# Show the original image\n",
    "plt.imshow(original_image, cmap=None)\n",
    "plt.axis(\"off\")\n",
    "plt.show()"
   ]
  },
  {
   "cell_type": "markdown",
   "id": "a62dc1a0d0271b4",
   "metadata": {},
   "source": [
    "### Transformation Test Ground"
   ]
  },
  {
   "cell_type": "code",
   "execution_count": null,
   "id": "86bd6f006028be6b",
   "metadata": {},
   "outputs": [],
   "source": [
    "# https://pytorch.org/vision/0.9/transforms.html\n",
    "# Define the transformation rules\n",
    "transform = transforms.Compose([\n",
    "    #transforms.RandomRotation(degrees=6),\n",
    "    #transforms.RandomResizedCrop(size=224),\n",
    "    #transforms.RandomHorizontalFlip(p=1),\n",
    "    transforms.ToTensor(),\n",
    "    #transforms.Normalize(mean=[0.485, 0.456, 0.406],std=[0.229, 0.224, 0.225]) # ImageNet1K stats\n",
    "])"
   ]
  },
  {
   "cell_type": "code",
   "execution_count": null,
   "id": "85a1b600769f28fc",
   "metadata": {},
   "outputs": [],
   "source": [
    "transformed_image = transform(original_image)\n",
    "transformed_image = transforms.ToPILImage()(transformed_image)\n",
    "plt.imshow(transformed_image, cmap=None)\n",
    "plt.axis(\"off\")\n",
    "plt.show()"
   ]
  }
 ],
 "metadata": {
  "kernelspec": {
   "display_name": "venv",
   "language": "python",
   "name": "python3"
  },
  "language_info": {
   "codemirror_mode": {
    "name": "ipython",
    "version": 3
   },
   "file_extension": ".py",
   "mimetype": "text/x-python",
   "name": "python",
   "nbconvert_exporter": "python",
   "pygments_lexer": "ipython3",
   "version": "3.8.2"
  }
 },
 "nbformat": 4,
 "nbformat_minor": 5
}
