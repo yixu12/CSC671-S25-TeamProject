{
 "cells": [
  {
   "cell_type": "markdown",
   "id": "d852d5ff",
   "metadata": {},
   "source": [
    "Load data"
   ]
  },
  {
   "cell_type": "code",
   "execution_count": null,
   "id": "4e02ed98",
   "metadata": {},
   "outputs": [],
   "source": [
    "import os\n",
    "from torchvision import datasets, transforms\n",
    "from torch.utils.data import DataLoader\n",
    "path = '/Users/jasonyentw/Downloads/Skin cancer ISIC The International Skin Imaging Collaboration'\n",
    "# Define the data directory\n",
    "train_dir = path + '/train'\n",
    "test_dir = path + '/test'"
   ]
  },
  {
   "cell_type": "markdown",
   "id": "41a32ac6",
   "metadata": {},
   "source": [
    "Normalize"
   ]
  },
  {
   "cell_type": "markdown",
   "id": "ab0547e1",
   "metadata": {},
   "source": [
    "Define CNN Model"
   ]
  },
  {
   "cell_type": "markdown",
   "id": "e670e7b1",
   "metadata": {},
   "source": [
    "Data Loader "
   ]
  },
  {
   "cell_type": "markdown",
   "id": "6bfd819a",
   "metadata": {},
   "source": [
    "Training Loop"
   ]
  },
  {
   "cell_type": "markdown",
   "id": "01c68e56",
   "metadata": {},
   "source": [
    "Hyperparameter"
   ]
  },
  {
   "cell_type": "markdown",
   "id": "8dab6129",
   "metadata": {},
   "source": [
    "Plot"
   ]
  }
 ],
 "metadata": {
  "kernelspec": {
   "display_name": "venv",
   "language": "python",
   "name": "python3"
  },
  "language_info": {
   "name": "python",
   "version": "3.8.2"
  }
 },
 "nbformat": 4,
 "nbformat_minor": 5
}
