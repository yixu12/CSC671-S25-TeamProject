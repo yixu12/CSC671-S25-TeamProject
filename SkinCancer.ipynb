{
 "cells": [
  {
   "cell_type": "markdown",
   "id": "d852d5ff",
   "metadata": {},
   "source": [
    "Load data"
   ]
  },
  {
   "cell_type": "markdown",
   "id": "41a32ac6",
   "metadata": {},
   "source": [
    "Normalize"
   ]
  },
  {
   "cell_type": "markdown",
   "id": "ab0547e1",
   "metadata": {},
   "source": [
    "Define CNN Model"
   ]
  },
  {
   "cell_type": "markdown",
   "id": "e670e7b1",
   "metadata": {},
   "source": [
    "Data Loader "
   ]
  },
  {
   "cell_type": "markdown",
   "id": "6bfd819a",
   "metadata": {},
   "source": [
    "Training Loop"
   ]
  },
  {
   "cell_type": "markdown",
   "id": "01c68e56",
   "metadata": {},
   "source": [
    "Hyperparameter"
   ]
  },
  {
   "cell_type": "markdown",
   "id": "8dab6129",
   "metadata": {},
   "source": [
    "Plot"
   ]
  }
 ],
 "metadata": {
  "language_info": {
   "name": "python"
  }
 },
 "nbformat": 4,
 "nbformat_minor": 5
}
